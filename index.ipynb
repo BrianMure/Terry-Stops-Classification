{
 "cells": [
  {
   "cell_type": "markdown",
   "metadata": {},
   "source": [
    "#  Overview\n",
    "\n",
    "The Terry Stops problem aims to predict the outcome of police stops based on reasonable suspicion using a classification model. The model considers various factors such as presence of weapons, time of day, and possibly gender and race of both the officer and the subject. However, the use of race and gender data raises ethical concerns and the importance of avoiding bias and discrimination must be taken into consideration. The goal of this model is to improve the efficiency and fairness of law enforcement actions, but the agencies must also monitor and address any potential biases."
   ]
  },
  {
   "cell_type": "markdown",
   "metadata": {},
   "source": [
    "# 1. Business Understanding\n"
   ]
  },
  {
   "cell_type": "markdown",
   "metadata": {},
   "source": [
    "## 1.1. Problem\n",
    "The Terry Stops presents a business opportunity to improve the efficiency and fairness of law enforcement actions. By developing a predictive model that can assist officers in determining the likelihood of an arrest being made during a Terry Stop, the law enforcement agencies can make informed decisions and potentially reduce the number of false arrests and incidents of police misconduct. However, it is important to approach this problem with caution and transparency, considering the ethical concerns raised by the use of gender and race data. The goal is to provide a tool that can help improve policing, while avoiding biases and discrimination."
   ]
  },
  {
   "cell_type": "markdown",
   "metadata": {},
   "source": [
    "## 1.2 Aim"
   ]
  },
  {
   "cell_type": "markdown",
   "metadata": {},
   "source": [
    "The aim of this project is to build a classifier that can predict the outcome of a Terry Stop (whether an arrest was made or not) based on reasonable suspicion. This will be done by considering various factors such as the presence of weapons, time of day of the call, and other relevant information. The model will be designed to address the binary classification problem, with the goal of improving the efficiency and fairness of law enforcement actions."
   ]
  },
  {
   "cell_type": "markdown",
   "metadata": {},
   "source": [
    "## 1.3. 0bjectives\n",
    "* To create a predictive model for Terry Stops that accurately predicts the outcome of the stop (arrest made or not)\n",
    "* To take into consideration key factors such as the presence of weapons and the time of the call in the model\n",
    "* To ensure that the model is ethically sound and avoids any biases or discrimination related to gender and race."
   ]
  },
  {
   "cell_type": "markdown",
   "metadata": {},
   "source": [
    "# 2. Data Understanding"
   ]
  },
  {
   "cell_type": "markdown",
   "metadata": {},
   "source": [
    "## 2.1 Data Understanding\n",
    "This dataset was provided by the City of Seattle and is managed by the Seattle Police Department. It was created on April 13, 2017 and last updated on February 6, 2023. The dataset contains **54873**, rows and **23** columns, each row representing a unique Terry Stop record as reported by the officer conducting the stop. The columns in the dataset include information about the subject of the stop, such as the perceived age group, perceived race, and perceived gender. \n",
    "\n",
    "The dataset also includes information about the officer, such as the officer's gender, race, and year of birth. Additionally, the dataset includes information about the resolution of the stop, any weapons found, the date and time the stop was reported, and information about the underlying Computer Aided Dispatch (CAD) event. The data is updated daily and is licensed under the public domain."
   ]
  },
  {
   "cell_type": "markdown",
   "metadata": {},
   "source": [
    "# 3. Requirements\n",
    "\n",
    "* Data Preparation -> Loading Libraries -> Loading data -> Descriptive Exploration -> Data Cleaning -> Exploratory Descriptive Analysis (EDA) -> Pre-processing Data\n",
    "\n",
    "* Modelling -> Train test split -> Logistic Regression -> K-Nearest -> Decision Tree -> Logistic Regression -> Random Forest\n",
    "    \n",
    "* Evaluation -> Classification Metrics -> Best Perfoming Model\n",
    "\n",
    "* Conclusion -> Best Model\n",
    "    \n",
    "* Recommendation -> Most imporatnt features"
   ]
  },
  {
   "cell_type": "markdown",
   "metadata": {},
   "source": [
    "# 4. Data Preparation"
   ]
  },
  {
   "cell_type": "markdown",
   "metadata": {},
   "source": [
    "### 4.1. Loading Libraries"
   ]
  },
  {
   "cell_type": "code",
   "execution_count": 1,
   "metadata": {},
   "outputs": [],
   "source": [
    "# import relevant libraries\n",
    "import numpy as np\n",
    "import pandas as pd\n",
    "import seaborn as sns\n",
    "import matplotlib.pyplot as plt\n",
    "%matplotlib inline\n",
    "\n",
    "# Model Selection and Preprocessing\n",
    "from sklearn.decomposition import PCA\n",
    "from sklearn.preprocessing import OneHotEncoder\n",
    "from sklearn.preprocessing import StandardScaler\n",
    "from sklearn.model_selection import cross_val_score\n",
    "from sklearn.model_selection import train_test_split, GridSearchCV\n",
    "\n",
    "# Metrics\n",
    "from sklearn.metrics import roc_curve, auc\n",
    "from sklearn.metrics import accuracy_score, f1_score, recall_score\n",
    "from sklearn.metrics import classification_report, confusion_matrix\n",
    "\n",
    "# Classifiers\n",
    "from sklearn.tree import DecisionTreeClassifier\n",
    "from sklearn.ensemble import RandomForestClassifier\n",
    "from sklearn.neighbors import KNeighborsClassifier\n",
    "from sklearn.linear_model import LogisticRegression"
   ]
  },
  {
   "cell_type": "markdown",
   "metadata": {},
   "source": [
    "### 4.2. Loading Data"
   ]
  },
  {
   "cell_type": "code",
   "execution_count": 2,
   "metadata": {},
   "outputs": [
    {
     "data": {
      "text/html": [
       "<div>\n",
       "<style scoped>\n",
       "    .dataframe tbody tr th:only-of-type {\n",
       "        vertical-align: middle;\n",
       "    }\n",
       "\n",
       "    .dataframe tbody tr th {\n",
       "        vertical-align: top;\n",
       "    }\n",
       "\n",
       "    .dataframe thead th {\n",
       "        text-align: right;\n",
       "    }\n",
       "</style>\n",
       "<table border=\"1\" class=\"dataframe\">\n",
       "  <thead>\n",
       "    <tr style=\"text-align: right;\">\n",
       "      <th></th>\n",
       "      <th>Subject Age Group</th>\n",
       "      <th>Subject ID</th>\n",
       "      <th>GO / SC Num</th>\n",
       "      <th>Terry Stop ID</th>\n",
       "      <th>Stop Resolution</th>\n",
       "      <th>Weapon Type</th>\n",
       "      <th>Officer ID</th>\n",
       "      <th>Officer YOB</th>\n",
       "      <th>Officer Gender</th>\n",
       "      <th>Officer Race</th>\n",
       "      <th>...</th>\n",
       "      <th>Reported Time</th>\n",
       "      <th>Initial Call Type</th>\n",
       "      <th>Final Call Type</th>\n",
       "      <th>Call Type</th>\n",
       "      <th>Officer Squad</th>\n",
       "      <th>Arrest Flag</th>\n",
       "      <th>Frisk Flag</th>\n",
       "      <th>Precinct</th>\n",
       "      <th>Sector</th>\n",
       "      <th>Beat</th>\n",
       "    </tr>\n",
       "  </thead>\n",
       "  <tbody>\n",
       "    <tr>\n",
       "      <th>0</th>\n",
       "      <td>26 - 35</td>\n",
       "      <td>-1</td>\n",
       "      <td>20160000004638</td>\n",
       "      <td>207171</td>\n",
       "      <td>Field Contact</td>\n",
       "      <td>NaN</td>\n",
       "      <td>6970</td>\n",
       "      <td>1968</td>\n",
       "      <td>M</td>\n",
       "      <td>White</td>\n",
       "      <td>...</td>\n",
       "      <td>01:23:00.0000000</td>\n",
       "      <td>-</td>\n",
       "      <td>-</td>\n",
       "      <td>-</td>\n",
       "      <td>SOUTH PCT 3RD W - ROBERT</td>\n",
       "      <td>N</td>\n",
       "      <td>N</td>\n",
       "      <td>-</td>\n",
       "      <td>-</td>\n",
       "      <td>-</td>\n",
       "    </tr>\n",
       "    <tr>\n",
       "      <th>1</th>\n",
       "      <td>18 - 25</td>\n",
       "      <td>-1</td>\n",
       "      <td>20180000352673</td>\n",
       "      <td>484084</td>\n",
       "      <td>Offense Report</td>\n",
       "      <td>NaN</td>\n",
       "      <td>7794</td>\n",
       "      <td>1991</td>\n",
       "      <td>M</td>\n",
       "      <td>White</td>\n",
       "      <td>...</td>\n",
       "      <td>06:45:00.0000000</td>\n",
       "      <td>TRESPASS</td>\n",
       "      <td>TRESPASS</td>\n",
       "      <td>TELEPHONE OTHER, NOT 911</td>\n",
       "      <td>NORTH PCT 1ST W - LINCOLN</td>\n",
       "      <td>N</td>\n",
       "      <td>N</td>\n",
       "      <td>North</td>\n",
       "      <td>L</td>\n",
       "      <td>L2</td>\n",
       "    </tr>\n",
       "    <tr>\n",
       "      <th>2</th>\n",
       "      <td>26 - 35</td>\n",
       "      <td>-1</td>\n",
       "      <td>20170000399165</td>\n",
       "      <td>325847</td>\n",
       "      <td>Offense Report</td>\n",
       "      <td>NaN</td>\n",
       "      <td>7795</td>\n",
       "      <td>1992</td>\n",
       "      <td>M</td>\n",
       "      <td>Hispanic or Latino</td>\n",
       "      <td>...</td>\n",
       "      <td>17:28:00.0000000</td>\n",
       "      <td>BURG - RES (INCL UNOCC STRUCTURES ON PROP)</td>\n",
       "      <td>--BURGLARY - RESIDENTIAL, UNOCCUPIED</td>\n",
       "      <td>911</td>\n",
       "      <td>EAST PCT 2ND W - CHARLIE RELIEF</td>\n",
       "      <td>N</td>\n",
       "      <td>N</td>\n",
       "      <td>East</td>\n",
       "      <td>C</td>\n",
       "      <td>C1</td>\n",
       "    </tr>\n",
       "    <tr>\n",
       "      <th>3</th>\n",
       "      <td>1 - 17</td>\n",
       "      <td>12771262575</td>\n",
       "      <td>20200000093264</td>\n",
       "      <td>12771309361</td>\n",
       "      <td>Arrest</td>\n",
       "      <td>-</td>\n",
       "      <td>8308</td>\n",
       "      <td>1987</td>\n",
       "      <td>M</td>\n",
       "      <td>Hispanic or Latino</td>\n",
       "      <td>...</td>\n",
       "      <td>01:56:17.0000000</td>\n",
       "      <td>DISTURBANCE, MISCELLANEOUS/OTHER</td>\n",
       "      <td>--TRAFFIC - D.U.I.</td>\n",
       "      <td>ONVIEW</td>\n",
       "      <td>NaN</td>\n",
       "      <td>Y</td>\n",
       "      <td>N</td>\n",
       "      <td>West</td>\n",
       "      <td>Q</td>\n",
       "      <td>Q3</td>\n",
       "    </tr>\n",
       "    <tr>\n",
       "      <th>4</th>\n",
       "      <td>56 and Above</td>\n",
       "      <td>-1</td>\n",
       "      <td>20170000000086</td>\n",
       "      <td>227439</td>\n",
       "      <td>Field Contact</td>\n",
       "      <td>NaN</td>\n",
       "      <td>8376</td>\n",
       "      <td>1975</td>\n",
       "      <td>M</td>\n",
       "      <td>Hispanic or Latino</td>\n",
       "      <td>...</td>\n",
       "      <td>14:29:00.0000000</td>\n",
       "      <td>-</td>\n",
       "      <td>-</td>\n",
       "      <td>-</td>\n",
       "      <td>NORTH PCT 2ND W - JOHN</td>\n",
       "      <td>N</td>\n",
       "      <td>N</td>\n",
       "      <td>-</td>\n",
       "      <td>-</td>\n",
       "      <td>-</td>\n",
       "    </tr>\n",
       "  </tbody>\n",
       "</table>\n",
       "<p>5 rows × 23 columns</p>\n",
       "</div>"
      ],
      "text/plain": [
       "  Subject Age Group   Subject ID     GO / SC Num  Terry Stop ID  \\\n",
       "0           26 - 35           -1  20160000004638         207171   \n",
       "1           18 - 25           -1  20180000352673         484084   \n",
       "2           26 - 35           -1  20170000399165         325847   \n",
       "3            1 - 17  12771262575  20200000093264    12771309361   \n",
       "4      56 and Above           -1  20170000000086         227439   \n",
       "\n",
       "  Stop Resolution Weapon Type Officer ID  Officer YOB Officer Gender  \\\n",
       "0   Field Contact         NaN       6970         1968              M   \n",
       "1  Offense Report         NaN       7794         1991              M   \n",
       "2  Offense Report         NaN       7795         1992              M   \n",
       "3          Arrest           -       8308         1987              M   \n",
       "4   Field Contact         NaN       8376         1975              M   \n",
       "\n",
       "         Officer Race  ...     Reported Time  \\\n",
       "0               White  ...  01:23:00.0000000   \n",
       "1               White  ...  06:45:00.0000000   \n",
       "2  Hispanic or Latino  ...  17:28:00.0000000   \n",
       "3  Hispanic or Latino  ...  01:56:17.0000000   \n",
       "4  Hispanic or Latino  ...  14:29:00.0000000   \n",
       "\n",
       "                            Initial Call Type  \\\n",
       "0                                           -   \n",
       "1                                    TRESPASS   \n",
       "2  BURG - RES (INCL UNOCC STRUCTURES ON PROP)   \n",
       "3            DISTURBANCE, MISCELLANEOUS/OTHER   \n",
       "4                                           -   \n",
       "\n",
       "                        Final Call Type                 Call Type  \\\n",
       "0                                     -                         -   \n",
       "1                              TRESPASS  TELEPHONE OTHER, NOT 911   \n",
       "2  --BURGLARY - RESIDENTIAL, UNOCCUPIED                       911   \n",
       "3                    --TRAFFIC - D.U.I.                    ONVIEW   \n",
       "4                                     -                         -   \n",
       "\n",
       "                     Officer Squad Arrest Flag Frisk Flag Precinct Sector Beat  \n",
       "0         SOUTH PCT 3RD W - ROBERT           N          N        -      -    -  \n",
       "1        NORTH PCT 1ST W - LINCOLN           N          N    North      L   L2  \n",
       "2  EAST PCT 2ND W - CHARLIE RELIEF           N          N     East      C   C1  \n",
       "3                              NaN           Y          N     West      Q   Q3  \n",
       "4           NORTH PCT 2ND W - JOHN           N          N        -      -    -  \n",
       "\n",
       "[5 rows x 23 columns]"
      ]
     },
     "execution_count": 2,
     "metadata": {},
     "output_type": "execute_result"
    }
   ],
   "source": [
    "# read the csv file to pandas data frame\n",
    "df = pd.read_csv('./Terry_Stops.csv')\n",
    "df.head()"
   ]
  },
  {
   "cell_type": "markdown",
   "metadata": {},
   "source": [
    "### 4.2.1 Dataset Columns\n",
    "##### These are the  23 columns, with a concise explanation of the information contained in each column :\n",
    "\n"
   ]
  },
  {
   "cell_type": "code",
   "execution_count": 3,
   "metadata": {},
   "outputs": [
    {
     "name": "stdout",
     "output_type": "stream",
     "text": [
      "<class 'pandas.core.frame.DataFrame'>\n",
      "RangeIndex: 54873 entries, 0 to 54872\n",
      "Data columns (total 23 columns):\n",
      " #   Column                    Non-Null Count  Dtype \n",
      "---  ------                    --------------  ----- \n",
      " 0   Subject Age Group         54873 non-null  object\n",
      " 1   Subject ID                54873 non-null  int64 \n",
      " 2   GO / SC Num               54873 non-null  int64 \n",
      " 3   Terry Stop ID             54873 non-null  int64 \n",
      " 4   Stop Resolution           54873 non-null  object\n",
      " 5   Weapon Type               22308 non-null  object\n",
      " 6   Officer ID                54873 non-null  object\n",
      " 7   Officer YOB               54873 non-null  int64 \n",
      " 8   Officer Gender            54873 non-null  object\n",
      " 9   Officer Race              54873 non-null  object\n",
      " 10  Subject Perceived Race    54873 non-null  object\n",
      " 11  Subject Perceived Gender  54873 non-null  object\n",
      " 12  Reported Date             54873 non-null  object\n",
      " 13  Reported Time             54873 non-null  object\n",
      " 14  Initial Call Type         54873 non-null  object\n",
      " 15  Final Call Type           54873 non-null  object\n",
      " 16  Call Type                 54873 non-null  object\n",
      " 17  Officer Squad             34144 non-null  object\n",
      " 18  Arrest Flag               54873 non-null  object\n",
      " 19  Frisk Flag                54873 non-null  object\n",
      " 20  Precinct                  54873 non-null  object\n",
      " 21  Sector                    54873 non-null  object\n",
      " 22  Beat                      54873 non-null  object\n",
      "dtypes: int64(4), object(19)\n",
      "memory usage: 9.6+ MB\n"
     ]
    }
   ],
   "source": [
    "#check the info\n",
    "df.info()"
   ]
  },
  {
   "cell_type": "markdown",
   "metadata": {},
   "source": [
    "### 4.3.  Descriptive Exploration\n",
    "Describing the data set in terms of shape and the data types for all the columns present. Most of the columns are categorical and have the 'object' datatype."
   ]
  },
  {
   "cell_type": "code",
   "execution_count": 4,
   "metadata": {},
   "outputs": [
    {
     "data": {
      "text/html": [
       "<div>\n",
       "<style scoped>\n",
       "    .dataframe tbody tr th:only-of-type {\n",
       "        vertical-align: middle;\n",
       "    }\n",
       "\n",
       "    .dataframe tbody tr th {\n",
       "        vertical-align: top;\n",
       "    }\n",
       "\n",
       "    .dataframe thead th {\n",
       "        text-align: right;\n",
       "    }\n",
       "</style>\n",
       "<table border=\"1\" class=\"dataframe\">\n",
       "  <thead>\n",
       "    <tr style=\"text-align: right;\">\n",
       "      <th></th>\n",
       "      <th>count</th>\n",
       "      <th>mean</th>\n",
       "      <th>std</th>\n",
       "      <th>min</th>\n",
       "      <th>25%</th>\n",
       "      <th>50%</th>\n",
       "      <th>75%</th>\n",
       "      <th>max</th>\n",
       "    </tr>\n",
       "  </thead>\n",
       "  <tbody>\n",
       "    <tr>\n",
       "      <th>Subject ID</th>\n",
       "      <td>54873.0</td>\n",
       "      <td>4.733982e+09</td>\n",
       "      <td>8.203096e+09</td>\n",
       "      <td>-8.0</td>\n",
       "      <td>-1.000000e+00</td>\n",
       "      <td>-1.000000e+00</td>\n",
       "      <td>7.732994e+09</td>\n",
       "      <td>4.149222e+10</td>\n",
       "    </tr>\n",
       "    <tr>\n",
       "      <th>GO / SC Num</th>\n",
       "      <td>54873.0</td>\n",
       "      <td>2.018135e+13</td>\n",
       "      <td>8.883140e+10</td>\n",
       "      <td>-1.0</td>\n",
       "      <td>2.016000e+13</td>\n",
       "      <td>2.018000e+13</td>\n",
       "      <td>2.020000e+13</td>\n",
       "      <td>2.023000e+13</td>\n",
       "    </tr>\n",
       "    <tr>\n",
       "      <th>Terry Stop ID</th>\n",
       "      <td>54873.0</td>\n",
       "      <td>7.648965e+09</td>\n",
       "      <td>1.171084e+10</td>\n",
       "      <td>28020.0</td>\n",
       "      <td>2.123010e+05</td>\n",
       "      <td>4.677610e+05</td>\n",
       "      <td>1.279593e+10</td>\n",
       "      <td>4.149624e+10</td>\n",
       "    </tr>\n",
       "    <tr>\n",
       "      <th>Officer YOB</th>\n",
       "      <td>54873.0</td>\n",
       "      <td>1.983519e+03</td>\n",
       "      <td>9.508902e+00</td>\n",
       "      <td>1900.0</td>\n",
       "      <td>1.979000e+03</td>\n",
       "      <td>1.986000e+03</td>\n",
       "      <td>1.990000e+03</td>\n",
       "      <td>2.000000e+03</td>\n",
       "    </tr>\n",
       "  </tbody>\n",
       "</table>\n",
       "</div>"
      ],
      "text/plain": [
       "                 count          mean           std      min           25%  \\\n",
       "Subject ID     54873.0  4.733982e+09  8.203096e+09     -8.0 -1.000000e+00   \n",
       "GO / SC Num    54873.0  2.018135e+13  8.883140e+10     -1.0  2.016000e+13   \n",
       "Terry Stop ID  54873.0  7.648965e+09  1.171084e+10  28020.0  2.123010e+05   \n",
       "Officer YOB    54873.0  1.983519e+03  9.508902e+00   1900.0  1.979000e+03   \n",
       "\n",
       "                        50%           75%           max  \n",
       "Subject ID    -1.000000e+00  7.732994e+09  4.149222e+10  \n",
       "GO / SC Num    2.018000e+13  2.020000e+13  2.023000e+13  \n",
       "Terry Stop ID  4.677610e+05  1.279593e+10  4.149624e+10  \n",
       "Officer YOB    1.986000e+03  1.990000e+03  2.000000e+03  "
      ]
     },
     "execution_count": 4,
     "metadata": {},
     "output_type": "execute_result"
    }
   ],
   "source": [
    "#describe the data\n",
    "df.describe().T"
   ]
  },
  {
   "cell_type": "markdown",
   "metadata": {},
   "source": [
    "### 4.4 Data Cleaning\n",
    "\n",
    "Identifying and correcting inaccuracies, inconsistencies, and irrelevant data from a dataset. These were the steps\n",
    "* handling missing values\n",
    "* removing duplicates\n",
    "* correcting data format\n",
    "* transforming variables to make the data ready for modelling and predictions."
   ]
  },
  {
   "cell_type": "markdown",
   "metadata": {},
   "source": [
    "### 4.4.1 Missing Values"
   ]
  },
  {
   "cell_type": "code",
   "execution_count": 5,
   "metadata": {},
   "outputs": [
    {
     "data": {
      "text/plain": [
       "Subject Age Group               0\n",
       "Subject ID                      0\n",
       "GO / SC Num                     0\n",
       "Terry Stop ID                   0\n",
       "Stop Resolution                 0\n",
       "Weapon Type                 32565\n",
       "Officer ID                      0\n",
       "Officer YOB                     0\n",
       "Officer Gender                  0\n",
       "Officer Race                    0\n",
       "Subject Perceived Race          0\n",
       "Subject Perceived Gender        0\n",
       "Reported Date                   0\n",
       "Reported Time                   0\n",
       "Initial Call Type               0\n",
       "Final Call Type                 0\n",
       "Call Type                       0\n",
       "Officer Squad               20729\n",
       "Arrest Flag                     0\n",
       "Frisk Flag                      0\n",
       "Precinct                        0\n",
       "Sector                          0\n",
       "Beat                            0\n",
       "dtype: int64"
      ]
     },
     "execution_count": 5,
     "metadata": {},
     "output_type": "execute_result"
    }
   ],
   "source": [
    "#check the missing values\n",
    "missing_values = df.isnull().sum()\n",
    "missing_values"
   ]
  },
  {
   "cell_type": "markdown",
   "metadata": {},
   "source": [
    "### 4.4.1.1 Weapon Type"
   ]
  },
  {
   "cell_type": "code",
   "execution_count": 6,
   "metadata": {},
   "outputs": [
    {
     "data": {
      "text/plain": [
       "Weapon Type\n",
       "-                                       18917\n",
       "Lethal Cutting Instrument                1482\n",
       "Knife/Cutting/Stabbing Instrument        1030\n",
       "Handgun                                   349\n",
       "Blunt Object/Striking Implement           136\n",
       "Firearm Other                             100\n",
       "Firearm                                    73\n",
       "Club, Blackjack, Brass Knuckles            49\n",
       "Other Firearm                              47\n",
       "Mace/Pepper Spray                          44\n",
       "Firearm (unk type)                         15\n",
       "Taser/Stun Gun                             14\n",
       "None/Not Applicable                        13\n",
       "Fire/Incendiary Device                     11\n",
       "Club                                        9\n",
       "Rifle                                       9\n",
       "Shotgun                                     4\n",
       "Automatic Handgun                           2\n",
       "Personal Weapons (hands, feet, etc.)        2\n",
       "Brass Knuckles                              1\n",
       "Blackjack                                   1\n",
       "Name: count, dtype: int64"
      ]
     },
     "execution_count": 6,
     "metadata": {},
     "output_type": "execute_result"
    }
   ],
   "source": [
    "df['Weapon Type'].value_counts()"
   ]
  },
  {
   "cell_type": "code",
   "execution_count": 7,
   "metadata": {},
   "outputs": [
    {
     "data": {
      "text/plain": [
       "Weapon Type\n",
       "None/Not Applicable                     18930\n",
       "Lethal Cutting Instrument                1482\n",
       "Knife/Cutting/Stabbing Instrument        1030\n",
       "Handgun                                   349\n",
       "Blunt Object/Striking Implement           136\n",
       "Firearm Other                             100\n",
       "Firearm                                    73\n",
       "Club, Blackjack, Brass Knuckles            49\n",
       "Other Firearm                              47\n",
       "Mace/Pepper Spray                          44\n",
       "Firearm (unk type)                         15\n",
       "Taser/Stun Gun                             14\n",
       "Fire/Incendiary Device                     11\n",
       "Club                                        9\n",
       "Rifle                                       9\n",
       "Shotgun                                     4\n",
       "Automatic Handgun                           2\n",
       "Personal Weapons (hands, feet, etc.)        2\n",
       "Brass Knuckles                              1\n",
       "Blackjack                                   1\n",
       "Name: count, dtype: int64"
      ]
     },
     "execution_count": 7,
     "metadata": {},
     "output_type": "execute_result"
    }
   ],
   "source": [
    "#fill - with None\n",
    "df.loc[df['Weapon Type'] == '-', 'Weapon Type'] = 'None/Not Applicable'\n",
    "df['Weapon Type'].value_counts()"
   ]
  },
  {
   "cell_type": "code",
   "execution_count": 8,
   "metadata": {},
   "outputs": [],
   "source": [
    "#group firearms\n",
    "df.loc[df['Weapon Type'] == 'Handgun', 'Weapon Type'] = 'Firearm'\n",
    "df.loc[df['Weapon Type'] == 'Firearm Other', 'Weapon Type'] = 'Firearm'\n",
    "df.loc[df['Weapon Type'] == 'Other Firearm', 'Weapon Type'] = 'Firearm'\n",
    "df.loc[df['Weapon Type'] == 'Firearm (unk type)', 'Weapon Type'] = 'Firearm'\n",
    "df.loc[df['Weapon Type'] == 'Rifle', 'Weapon Type'] = 'Firearm'\n",
    "df.loc[df['Weapon Type'] == 'Shotgun', 'Weapon Type'] = 'Firearm'\n",
    "df.loc[df['Weapon Type'] == 'Automatic Handgun', 'Weapon Type'] = 'Firearm'\n",
    "\n",
    "#group blunt objects\n",
    "df.loc[df['Weapon Type'] == 'Club, Blackjack, Brass Knuckles', 'Weapon Type'] = 'Blunt Object/Striking Implement'\n",
    "df.loc[df['Weapon Type'] == 'Club', 'Weapon Type'] = 'Blunt Object/Striking Implement'\n",
    "df.loc[df['Weapon Type'] == 'Brass Knuckles', 'Weapon Type'] = 'Blunt Object/Striking Implement'\n",
    "df.loc[df['Weapon Type'] == 'Blackjack', 'Weapon Type'] = 'Blunt Object/Striking Implement'\n",
    "df.loc[df['Weapon Type'] == 'Personal Weapons (hands, feet, etc.)', 'Weapon Type'] = 'Blunt Object/Striking Implement'\n",
    "\n",
    "#group others\n",
    "df.loc[df['Weapon Type'] == 'Mace/Pepper Spray', 'Weapon Type'] = 'Other'\n",
    "df.loc[df['Weapon Type'] == 'Taser/Stun Gun', 'Weapon Type'] = 'Other'\n",
    "df.loc[df['Weapon Type'] == 'Fire/Incendiary Device', 'Weapon Type'] = 'Other'\n",
    "\n",
    "#group knives\n",
    "df.loc[df['Weapon Type'] == 'Knife/Cutting/Stabbing Instrument', 'Weapon Type'] = 'Lethal Cutting Instrument'"
   ]
  },
  {
   "cell_type": "code",
   "execution_count": 9,
   "metadata": {},
   "outputs": [
    {
     "data": {
      "text/plain": [
       "Weapon Type\n",
       "None/Not Applicable                18930\n",
       "Lethal Cutting Instrument           2512\n",
       "Firearm                              599\n",
       "Blunt Object/Striking Implement      198\n",
       "Other                                 69\n",
       "Name: count, dtype: int64"
      ]
     },
     "execution_count": 9,
     "metadata": {},
     "output_type": "execute_result"
    }
   ],
   "source": [
    "df['Weapon Type'].value_counts()"
   ]
  },
  {
   "cell_type": "code",
   "execution_count": 10,
   "metadata": {},
   "outputs": [],
   "source": [
    "#fill missing values\n",
    "modal_type = df['Weapon Type'].mode()[0]\n",
    "df['Weapon Type'].fillna(modal_type, inplace = True)"
   ]
  },
  {
   "cell_type": "code",
   "execution_count": 11,
   "metadata": {},
   "outputs": [
    {
     "data": {
      "text/plain": [
       "Subject Age Group               0\n",
       "Subject ID                      0\n",
       "GO / SC Num                     0\n",
       "Terry Stop ID                   0\n",
       "Stop Resolution                 0\n",
       "Weapon Type                     0\n",
       "Officer ID                      0\n",
       "Officer YOB                     0\n",
       "Officer Gender                  0\n",
       "Officer Race                    0\n",
       "Subject Perceived Race          0\n",
       "Subject Perceived Gender        0\n",
       "Reported Date                   0\n",
       "Reported Time                   0\n",
       "Initial Call Type               0\n",
       "Final Call Type                 0\n",
       "Call Type                       0\n",
       "Officer Squad               20729\n",
       "Arrest Flag                     0\n",
       "Frisk Flag                      0\n",
       "Precinct                        0\n",
       "Sector                          0\n",
       "Beat                            0\n",
       "dtype: int64"
      ]
     },
     "execution_count": 11,
     "metadata": {},
     "output_type": "execute_result"
    }
   ],
   "source": [
    "df.isnull().sum()"
   ]
  },
  {
   "cell_type": "markdown",
   "metadata": {},
   "source": [
    "### 4.4.2 Duplicate Values"
   ]
  },
  {
   "cell_type": "code",
   "execution_count": 12,
   "metadata": {},
   "outputs": [
    {
     "name": "stdout",
     "output_type": "stream",
     "text": [
      "The number of duplicates before dropping is 5\n",
      "The number of duplicates after dropping is None\n"
     ]
    }
   ],
   "source": [
    "#check for duplicates\n",
    "duplicated = df.duplicated().sum()\n",
    "\n",
    "print(f\"The number of duplicates before dropping is {duplicated}\")\n",
    "\n",
    "#drop duplicates\n",
    "dropped_duplicates = df.drop_duplicates(inplace=True)\n",
    "\n",
    "print(f\"The number of duplicates after dropping is {dropped_duplicates}\")"
   ]
  },
  {
   "cell_type": "markdown",
   "metadata": {},
   "source": [
    "### 4.4.3 Shape of The Dataframe"
   ]
  },
  {
   "cell_type": "code",
   "execution_count": 13,
   "metadata": {},
   "outputs": [
    {
     "data": {
      "text/plain": [
       "(54868, 23)"
      ]
     },
     "execution_count": 13,
     "metadata": {},
     "output_type": "execute_result"
    }
   ],
   "source": [
    "#check shape\n",
    "df.shape"
   ]
  },
  {
   "cell_type": "markdown",
   "metadata": {},
   "source": [
    "### 4.4.4 Adding Month"
   ]
  },
  {
   "cell_type": "code",
   "execution_count": 14,
   "metadata": {},
   "outputs": [
    {
     "data": {
      "text/html": [
       "<div>\n",
       "<style scoped>\n",
       "    .dataframe tbody tr th:only-of-type {\n",
       "        vertical-align: middle;\n",
       "    }\n",
       "\n",
       "    .dataframe tbody tr th {\n",
       "        vertical-align: top;\n",
       "    }\n",
       "\n",
       "    .dataframe thead th {\n",
       "        text-align: right;\n",
       "    }\n",
       "</style>\n",
       "<table border=\"1\" class=\"dataframe\">\n",
       "  <thead>\n",
       "    <tr style=\"text-align: right;\">\n",
       "      <th></th>\n",
       "      <th>Subject Age Group</th>\n",
       "      <th>Subject ID</th>\n",
       "      <th>GO / SC Num</th>\n",
       "      <th>Terry Stop ID</th>\n",
       "      <th>Stop Resolution</th>\n",
       "      <th>Weapon Type</th>\n",
       "      <th>Officer ID</th>\n",
       "      <th>Officer YOB</th>\n",
       "      <th>Officer Gender</th>\n",
       "      <th>Officer Race</th>\n",
       "      <th>...</th>\n",
       "      <th>Initial Call Type</th>\n",
       "      <th>Final Call Type</th>\n",
       "      <th>Call Type</th>\n",
       "      <th>Officer Squad</th>\n",
       "      <th>Arrest Flag</th>\n",
       "      <th>Frisk Flag</th>\n",
       "      <th>Precinct</th>\n",
       "      <th>Sector</th>\n",
       "      <th>Beat</th>\n",
       "      <th>Month</th>\n",
       "    </tr>\n",
       "  </thead>\n",
       "  <tbody>\n",
       "    <tr>\n",
       "      <th>0</th>\n",
       "      <td>26 - 35</td>\n",
       "      <td>-1</td>\n",
       "      <td>20160000004638</td>\n",
       "      <td>207171</td>\n",
       "      <td>Field Contact</td>\n",
       "      <td>None/Not Applicable</td>\n",
       "      <td>6970</td>\n",
       "      <td>1968</td>\n",
       "      <td>M</td>\n",
       "      <td>White</td>\n",
       "      <td>...</td>\n",
       "      <td>-</td>\n",
       "      <td>-</td>\n",
       "      <td>-</td>\n",
       "      <td>SOUTH PCT 3RD W - ROBERT</td>\n",
       "      <td>N</td>\n",
       "      <td>N</td>\n",
       "      <td>-</td>\n",
       "      <td>-</td>\n",
       "      <td>-</td>\n",
       "      <td>10</td>\n",
       "    </tr>\n",
       "  </tbody>\n",
       "</table>\n",
       "<p>1 rows × 24 columns</p>\n",
       "</div>"
      ],
      "text/plain": [
       "  Subject Age Group  Subject ID     GO / SC Num  Terry Stop ID  \\\n",
       "0           26 - 35          -1  20160000004638         207171   \n",
       "\n",
       "  Stop Resolution          Weapon Type Officer ID  Officer YOB Officer Gender  \\\n",
       "0   Field Contact  None/Not Applicable       6970         1968              M   \n",
       "\n",
       "  Officer Race  ... Initial Call Type Final Call Type Call Type  \\\n",
       "0        White  ...                 -               -         -   \n",
       "\n",
       "              Officer Squad Arrest Flag Frisk Flag Precinct Sector Beat Month  \n",
       "0  SOUTH PCT 3RD W - ROBERT           N          N        -      -    -    10  \n",
       "\n",
       "[1 rows x 24 columns]"
      ]
     },
     "execution_count": 14,
     "metadata": {},
     "output_type": "execute_result"
    }
   ],
   "source": [
    "#change reported column to date time\n",
    "df['Reported Date'] = pd.to_datetime(df['Reported Date'])\n",
    "\n",
    "#add month as a column\n",
    "df['Month'] = df['Reported Date'].dt.month\n",
    "\n",
    "#check\n",
    "df.head(1)"
   ]
  },
  {
   "cell_type": "markdown",
   "metadata": {},
   "source": [
    "### 4.4.5 Adding Day/Night"
   ]
  },
  {
   "cell_type": "code",
   "execution_count": 15,
   "metadata": {},
   "outputs": [
    {
     "data": {
      "text/html": [
       "<div>\n",
       "<style scoped>\n",
       "    .dataframe tbody tr th:only-of-type {\n",
       "        vertical-align: middle;\n",
       "    }\n",
       "\n",
       "    .dataframe tbody tr th {\n",
       "        vertical-align: top;\n",
       "    }\n",
       "\n",
       "    .dataframe thead th {\n",
       "        text-align: right;\n",
       "    }\n",
       "</style>\n",
       "<table border=\"1\" class=\"dataframe\">\n",
       "  <thead>\n",
       "    <tr style=\"text-align: right;\">\n",
       "      <th></th>\n",
       "      <th>Subject Age Group</th>\n",
       "      <th>Subject ID</th>\n",
       "      <th>GO / SC Num</th>\n",
       "      <th>Terry Stop ID</th>\n",
       "      <th>Stop Resolution</th>\n",
       "      <th>Weapon Type</th>\n",
       "      <th>Officer ID</th>\n",
       "      <th>Officer YOB</th>\n",
       "      <th>Officer Gender</th>\n",
       "      <th>Officer Race</th>\n",
       "      <th>...</th>\n",
       "      <th>Final Call Type</th>\n",
       "      <th>Call Type</th>\n",
       "      <th>Officer Squad</th>\n",
       "      <th>Arrest Flag</th>\n",
       "      <th>Frisk Flag</th>\n",
       "      <th>Precinct</th>\n",
       "      <th>Sector</th>\n",
       "      <th>Beat</th>\n",
       "      <th>Month</th>\n",
       "      <th>day/night</th>\n",
       "    </tr>\n",
       "  </thead>\n",
       "  <tbody>\n",
       "    <tr>\n",
       "      <th>0</th>\n",
       "      <td>26 - 35</td>\n",
       "      <td>-1</td>\n",
       "      <td>20160000004638</td>\n",
       "      <td>207171</td>\n",
       "      <td>Field Contact</td>\n",
       "      <td>None/Not Applicable</td>\n",
       "      <td>6970</td>\n",
       "      <td>1968</td>\n",
       "      <td>M</td>\n",
       "      <td>White</td>\n",
       "      <td>...</td>\n",
       "      <td>-</td>\n",
       "      <td>-</td>\n",
       "      <td>SOUTH PCT 3RD W - ROBERT</td>\n",
       "      <td>N</td>\n",
       "      <td>N</td>\n",
       "      <td>-</td>\n",
       "      <td>-</td>\n",
       "      <td>-</td>\n",
       "      <td>10</td>\n",
       "      <td>night</td>\n",
       "    </tr>\n",
       "  </tbody>\n",
       "</table>\n",
       "<p>1 rows × 25 columns</p>\n",
       "</div>"
      ],
      "text/plain": [
       "  Subject Age Group  Subject ID     GO / SC Num  Terry Stop ID  \\\n",
       "0           26 - 35          -1  20160000004638         207171   \n",
       "\n",
       "  Stop Resolution          Weapon Type Officer ID  Officer YOB Officer Gender  \\\n",
       "0   Field Contact  None/Not Applicable       6970         1968              M   \n",
       "\n",
       "  Officer Race  ... Final Call Type Call Type             Officer Squad  \\\n",
       "0        White  ...               -         -  SOUTH PCT 3RD W - ROBERT   \n",
       "\n",
       "  Arrest Flag Frisk Flag Precinct Sector Beat Month day/night  \n",
       "0           N          N        -      -    -    10     night  \n",
       "\n",
       "[1 rows x 25 columns]"
      ]
     },
     "execution_count": 15,
     "metadata": {},
     "output_type": "execute_result"
    }
   ],
   "source": [
    "#change reported time to either day or night\n",
    "df['day/night'] = df['Reported Time'].apply(lambda x: 'night' if '00:00' <= x <= '05:00' or '19:00' <= x <= '23:00' else 'day')\n",
    "df.head(1)"
   ]
  },
  {
   "cell_type": "markdown",
   "metadata": {},
   "source": [
    "### 4.4.6 Target Variable"
   ]
  },
  {
   "cell_type": "code",
   "execution_count": 16,
   "metadata": {},
   "outputs": [
    {
     "data": {
      "text/plain": [
       "Stop Resolution\n",
       "Field Contact               23728\n",
       "Offense Report              16755\n",
       "Arrest                      13461\n",
       "Referred for Prosecution      728\n",
       "Citation / Infraction         196\n",
       "Name: count, dtype: int64"
      ]
     },
     "execution_count": 16,
     "metadata": {},
     "output_type": "execute_result"
    }
   ],
   "source": [
    "#check target variable\n",
    "df['Stop Resolution'].value_counts()"
   ]
  },
  {
   "cell_type": "code",
   "execution_count": 17,
   "metadata": {},
   "outputs": [
    {
     "data": {
      "text/plain": [
       "Stop Resolution\n",
       "0    41407\n",
       "1    13461\n",
       "Name: count, dtype: int64"
      ]
     },
     "execution_count": 17,
     "metadata": {},
     "output_type": "execute_result"
    }
   ],
   "source": [
    "#change to 0 and 1\n",
    "df.loc[df['Stop Resolution'] != 'Arrest', 'Stop Resolution'] = '0'\n",
    "df.loc[df['Stop Resolution'] == 'Arrest', 'Stop Resolution'] = '1'\n",
    "df['Stop Resolution'].value_counts()"
   ]
  },
  {
   "cell_type": "code",
   "execution_count": 18,
   "metadata": {},
   "outputs": [
    {
     "name": "stdout",
     "output_type": "stream",
     "text": [
      "<class 'pandas.core.frame.DataFrame'>\n",
      "Index: 54868 entries, 0 to 54872\n",
      "Data columns (total 25 columns):\n",
      " #   Column                    Non-Null Count  Dtype              \n",
      "---  ------                    --------------  -----              \n",
      " 0   Subject Age Group         54868 non-null  object             \n",
      " 1   Subject ID                54868 non-null  int64              \n",
      " 2   GO / SC Num               54868 non-null  int64              \n",
      " 3   Terry Stop ID             54868 non-null  int64              \n",
      " 4   Stop Resolution           54868 non-null  int64              \n",
      " 5   Weapon Type               54868 non-null  object             \n",
      " 6   Officer ID                54868 non-null  object             \n",
      " 7   Officer YOB               54868 non-null  int64              \n",
      " 8   Officer Gender            54868 non-null  object             \n",
      " 9   Officer Race              54868 non-null  object             \n",
      " 10  Subject Perceived Race    54868 non-null  object             \n",
      " 11  Subject Perceived Gender  54868 non-null  object             \n",
      " 12  Reported Date             54868 non-null  datetime64[ns, UTC]\n",
      " 13  Reported Time             54868 non-null  object             \n",
      " 14  Initial Call Type         54868 non-null  object             \n",
      " 15  Final Call Type           54868 non-null  object             \n",
      " 16  Call Type                 54868 non-null  object             \n",
      " 17  Officer Squad             34144 non-null  object             \n",
      " 18  Arrest Flag               54868 non-null  object             \n",
      " 19  Frisk Flag                54868 non-null  object             \n",
      " 20  Precinct                  54868 non-null  object             \n",
      " 21  Sector                    54868 non-null  object             \n",
      " 22  Beat                      54868 non-null  object             \n",
      " 23  Month                     54868 non-null  int32              \n",
      " 24  day/night                 54868 non-null  object             \n",
      "dtypes: datetime64[ns, UTC](1), int32(1), int64(5), object(18)\n",
      "memory usage: 10.7+ MB\n"
     ]
    }
   ],
   "source": [
    "#change type\n",
    "df['Stop Resolution'] = df['Stop Resolution'].astype('int64')\n",
    "df.info()"
   ]
  },
  {
   "cell_type": "markdown",
   "metadata": {},
   "source": [
    "### 4.4.7 Officer YOB"
   ]
  },
  {
   "cell_type": "code",
   "execution_count": 19,
   "metadata": {},
   "outputs": [
    {
     "data": {
      "text/plain": [
       "0    1968\n",
       "Name: Officer YOB, dtype: int64"
      ]
     },
     "execution_count": 19,
     "metadata": {},
     "output_type": "execute_result"
    }
   ],
   "source": [
    "#check yob\n",
    "df['Officer YOB'].head(1)"
   ]
  },
  {
   "cell_type": "code",
   "execution_count": 20,
   "metadata": {},
   "outputs": [
    {
     "data": {
      "text/plain": [
       "0    1968\n",
       "Name: Officer YOB, dtype: int64"
      ]
     },
     "execution_count": 20,
     "metadata": {},
     "output_type": "execute_result"
    }
   ],
   "source": [
    "#change type to int\n",
    "df['Officer YOB'].astype('int64').head(1)"
   ]
  },
  {
   "cell_type": "code",
   "execution_count": 21,
   "metadata": {},
   "outputs": [
    {
     "data": {
      "text/plain": [
       "Age\n",
       "38     3733\n",
       "37     3479\n",
       "33     3049\n",
       "40     2958\n",
       "32     2933\n",
       "34     2762\n",
       "39     2649\n",
       "36     2425\n",
       "35     2363\n",
       "42     1971\n",
       "41     1901\n",
       "29     1833\n",
       "31     1823\n",
       "45     1743\n",
       "43     1631\n",
       "30     1423\n",
       "53     1282\n",
       "48     1255\n",
       "46     1226\n",
       "47     1111\n",
       "28     1032\n",
       "51     1015\n",
       "44      957\n",
       "27      814\n",
       "57      804\n",
       "54      678\n",
       "56      669\n",
       "55      595\n",
       "49      585\n",
       "50      582\n",
       "62      464\n",
       "60      461\n",
       "52      455\n",
       "59      424\n",
       "61      265\n",
       "58      239\n",
       "63      238\n",
       "66      222\n",
       "65      174\n",
       "64      161\n",
       "26      138\n",
       "124     100\n",
       "70       44\n",
       "67       43\n",
       "71       35\n",
       "25       33\n",
       "24       25\n",
       "69       21\n",
       "68       17\n",
       "76       11\n",
       "72        9\n",
       "75        5\n",
       "78        2\n",
       "73        1\n",
       "Name: count, dtype: int64"
      ]
     },
     "execution_count": 21,
     "metadata": {},
     "output_type": "execute_result"
    }
   ],
   "source": [
    "#change to age\n",
    "#calculate current year\n",
    "current_year = pd.Timestamp.now().year\n",
    "\n",
    "#get age\n",
    "df['Age'] = current_year - df['Officer YOB']\n",
    "df['Age'].value_counts()"
   ]
  },
  {
   "cell_type": "code",
   "execution_count": 22,
   "metadata": {},
   "outputs": [
    {
     "data": {
      "text/plain": [
       "Age\n",
       "38    3733\n",
       "37    3479\n",
       "33    3049\n",
       "40    2958\n",
       "32    2933\n",
       "34    2762\n",
       "39    2649\n",
       "36    2425\n",
       "35    2363\n",
       "42    1971\n",
       "41    1901\n",
       "29    1833\n",
       "31    1823\n",
       "45    1743\n",
       "43    1631\n",
       "30    1423\n",
       "53    1282\n",
       "48    1255\n",
       "46    1226\n",
       "47    1111\n",
       "28    1032\n",
       "51    1015\n",
       "44     957\n",
       "27     814\n",
       "57     804\n",
       "54     678\n",
       "56     669\n",
       "55     595\n",
       "49     585\n",
       "50     582\n",
       "62     464\n",
       "60     461\n",
       "52     455\n",
       "59     424\n",
       "61     265\n",
       "58     239\n",
       "63     238\n",
       "66     222\n",
       "65     174\n",
       "64     161\n",
       "26     138\n",
       "70      44\n",
       "67      43\n",
       "71      35\n",
       "25      33\n",
       "24      25\n",
       "69      21\n",
       "68      17\n",
       "76      11\n",
       "72       9\n",
       "75       5\n",
       "78       2\n",
       "73       1\n",
       "Name: count, dtype: int64"
      ]
     },
     "execution_count": 22,
     "metadata": {},
     "output_type": "execute_result"
    }
   ],
   "source": [
    "#drop the rows with age over 100\n",
    "df = df[df['Age'] <= 100]\n",
    "df['Age'].value_counts()"
   ]
  },
  {
   "cell_type": "markdown",
   "metadata": {},
   "source": [
    "### 4.4.8 Precinct"
   ]
  },
  {
   "cell_type": "code",
   "execution_count": 23,
   "metadata": {},
   "outputs": [
    {
     "data": {
      "text/plain": [
       "Precinct\n",
       "West         14469\n",
       "North        11919\n",
       "-            10305\n",
       "East          7073\n",
       "South         6503\n",
       "Southwest     4213\n",
       "Unknown        200\n",
       "OOJ             64\n",
       "FK ERROR        22\n",
       "Name: count, dtype: int64"
      ]
     },
     "execution_count": 23,
     "metadata": {},
     "output_type": "execute_result"
    }
   ],
   "source": [
    "#check precinct type\n",
    "df['Precinct'].value_counts()"
   ]
  },
  {
   "cell_type": "code",
   "execution_count": 24,
   "metadata": {},
   "outputs": [
    {
     "data": {
      "text/plain": [
       "Precinct\n",
       "West         14469\n",
       "North        11919\n",
       "Unknown      10527\n",
       "East          7073\n",
       "South         6503\n",
       "Southwest     4213\n",
       "OOJ             64\n",
       "Name: count, dtype: int64"
      ]
     },
     "execution_count": 24,
     "metadata": {},
     "output_type": "execute_result"
    }
   ],
   "source": [
    "#change the - to unknown\n",
    "df.loc[df['Precinct'] == '-', 'Precinct'] = 'Unknown'\n",
    "df.loc[df['Precinct'] == 'FK ERROR', 'Precinct'] = 'Unknown'\n",
    "df['Precinct'].value_counts()"
   ]
  },
  {
   "cell_type": "markdown",
   "metadata": {},
   "source": [
    "### 4.4.9 Gender"
   ]
  },
  {
   "cell_type": "code",
   "execution_count": 25,
   "metadata": {},
   "outputs": [
    {
     "data": {
      "text/plain": [
       "Subject Perceived Gender\n",
       "Male                                                         43164\n",
       "Female                                                       10946\n",
       "Unable to Determine                                            326\n",
       "-                                                              237\n",
       "Unknown                                                         69\n",
       "Gender Diverse (gender non-conforming and/or transgender)       25\n",
       "DUPLICATE                                                        1\n",
       "Name: count, dtype: int64"
      ]
     },
     "execution_count": 25,
     "metadata": {},
     "output_type": "execute_result"
    }
   ],
   "source": [
    "#check subject gender\n",
    "df['Subject Perceived Gender'].value_counts()"
   ]
  },
  {
   "cell_type": "code",
   "execution_count": 26,
   "metadata": {},
   "outputs": [
    {
     "data": {
      "text/plain": [
       "Subject Perceived Gender\n",
       "Male                                                         43164\n",
       "Female                                                       10946\n",
       "Unknown                                                        632\n",
       "Gender Diverse (gender non-conforming and/or transgender)       25\n",
       "Name: count, dtype: int64"
      ]
     },
     "execution_count": 26,
     "metadata": {},
     "output_type": "execute_result"
    }
   ],
   "source": [
    "#deal with - \n",
    "df.loc[df['Subject Perceived Gender'] == '-', 'Subject Perceived Gender'] = 'Unknown'\n",
    "\n",
    "#deal with unable to determine\n",
    "df.loc[df['Subject Perceived Gender'] == 'Unable to Determine', 'Subject Perceived Gender'] = 'Unknown'\n",
    "\n",
    "#drop duplicate\n",
    "df = df[df['Subject Perceived Gender'] != 'DUPLICATE']\n",
    "\n",
    "df['Subject Perceived Gender'].value_counts()"
   ]
  },
  {
   "cell_type": "markdown",
   "metadata": {},
   "source": [
    "### 4.4.10 Subject Race"
   ]
  },
  {
   "cell_type": "code",
   "execution_count": 27,
   "metadata": {},
   "outputs": [
    {
     "data": {
      "text/plain": [
       "Subject Perceived Race\n",
       "White                                        26905\n",
       "Black or African American                    16276\n",
       "Unknown                                       3669\n",
       "Asian                                         1833\n",
       "-                                             1797\n",
       "Hispanic                                      1683\n",
       "American Indian or Alaska Native              1530\n",
       "Multi-Racial                                   809\n",
       "Other                                          152\n",
       "Native Hawaiian or Other Pacific Islander      113\n",
       "Name: count, dtype: int64"
      ]
     },
     "execution_count": 27,
     "metadata": {},
     "output_type": "execute_result"
    }
   ],
   "source": [
    "df['Subject Perceived Race'].value_counts()"
   ]
  },
  {
   "cell_type": "code",
   "execution_count": 28,
   "metadata": {},
   "outputs": [
    {
     "data": {
      "text/plain": [
       "Subject Perceived Race\n",
       "White                                        26905\n",
       "Black or African American                    16276\n",
       "Unknown                                       5466\n",
       "Asian                                         1833\n",
       "Hispanic                                      1683\n",
       "American Indian or Alaska Native              1530\n",
       "Multi-Racial                                   809\n",
       "Other                                          152\n",
       "Native Hawaiian or Other Pacific Islander      113\n",
       "Name: count, dtype: int64"
      ]
     },
     "execution_count": 28,
     "metadata": {},
     "output_type": "execute_result"
    }
   ],
   "source": [
    "#change - to unknown\n",
    "df.loc[df['Subject Perceived Race'] == '-', 'Subject Perceived Race'] = 'Unknown'\n",
    "df['Subject Perceived Race'].value_counts()"
   ]
  },
  {
   "cell_type": "markdown",
   "metadata": {},
   "source": [
    "### 4.4.11 Dropping Unwanted Columns"
   ]
  },
  {
   "cell_type": "code",
   "execution_count": 29,
   "metadata": {},
   "outputs": [
    {
     "data": {
      "text/html": [
       "<div>\n",
       "<style scoped>\n",
       "    .dataframe tbody tr th:only-of-type {\n",
       "        vertical-align: middle;\n",
       "    }\n",
       "\n",
       "    .dataframe tbody tr th {\n",
       "        vertical-align: top;\n",
       "    }\n",
       "\n",
       "    .dataframe thead th {\n",
       "        text-align: right;\n",
       "    }\n",
       "</style>\n",
       "<table border=\"1\" class=\"dataframe\">\n",
       "  <thead>\n",
       "    <tr style=\"text-align: right;\">\n",
       "      <th></th>\n",
       "      <th>Subject Age Group</th>\n",
       "      <th>Stop Resolution</th>\n",
       "      <th>Weapon Type</th>\n",
       "      <th>Officer YOB</th>\n",
       "      <th>Officer Gender</th>\n",
       "      <th>Officer Race</th>\n",
       "      <th>Subject Perceived Race</th>\n",
       "      <th>Subject Perceived Gender</th>\n",
       "      <th>Call Type</th>\n",
       "      <th>Arrest Flag</th>\n",
       "      <th>Frisk Flag</th>\n",
       "      <th>Precinct</th>\n",
       "      <th>Sector</th>\n",
       "      <th>Beat</th>\n",
       "      <th>Month</th>\n",
       "      <th>day/night</th>\n",
       "      <th>Age</th>\n",
       "    </tr>\n",
       "  </thead>\n",
       "  <tbody>\n",
       "    <tr>\n",
       "      <th>0</th>\n",
       "      <td>26 - 35</td>\n",
       "      <td>0</td>\n",
       "      <td>None/Not Applicable</td>\n",
       "      <td>1968</td>\n",
       "      <td>M</td>\n",
       "      <td>White</td>\n",
       "      <td>Black or African American</td>\n",
       "      <td>Male</td>\n",
       "      <td>-</td>\n",
       "      <td>N</td>\n",
       "      <td>N</td>\n",
       "      <td>Unknown</td>\n",
       "      <td>-</td>\n",
       "      <td>-</td>\n",
       "      <td>10</td>\n",
       "      <td>night</td>\n",
       "      <td>56</td>\n",
       "    </tr>\n",
       "  </tbody>\n",
       "</table>\n",
       "</div>"
      ],
      "text/plain": [
       "  Subject Age Group  Stop Resolution          Weapon Type  Officer YOB  \\\n",
       "0           26 - 35                0  None/Not Applicable         1968   \n",
       "\n",
       "  Officer Gender Officer Race     Subject Perceived Race  \\\n",
       "0              M        White  Black or African American   \n",
       "\n",
       "  Subject Perceived Gender Call Type Arrest Flag Frisk Flag Precinct Sector  \\\n",
       "0                     Male         -           N          N  Unknown      -   \n",
       "\n",
       "  Beat  Month day/night  Age  \n",
       "0    -     10     night   56  "
      ]
     },
     "execution_count": 29,
     "metadata": {},
     "output_type": "execute_result"
    }
   ],
   "source": [
    "#columns to drop\n",
    "columns_to_drop = ['Subject ID', \n",
    "           'GO / SC Num', \n",
    "           'Terry Stop ID', \n",
    "           'Officer ID',    \n",
    "           'Reported Time',\n",
    "           'Reported Date',\n",
    "           'Initial Call Type',\n",
    "           'Final Call Type',\n",
    "           'Officer Squad']\n",
    "df.drop(columns_to_drop, axis=1, inplace=True)\n",
    "df.head(1)"
   ]
  },
  {
   "cell_type": "markdown",
   "metadata": {},
   "source": [
    "### 4.4.12 Sector Column"
   ]
  },
  {
   "cell_type": "code",
   "execution_count": 30,
   "metadata": {},
   "outputs": [
    {
     "data": {
      "text/plain": [
       "Sector\n",
       "-     10545\n",
       "K      4556\n",
       "M      4477\n",
       "E      3660\n",
       "N      3297\n",
       "D      3152\n",
       "B      2577\n",
       "F      2566\n",
       "R      2404\n",
       "L      2369\n",
       "Q      2279\n",
       "O      2091\n",
       "S      2009\n",
       "U      2003\n",
       "G      1799\n",
       "J      1672\n",
       "W      1645\n",
       "C      1613\n",
       "99       53\n",
       "Name: count, dtype: int64"
      ]
     },
     "execution_count": 30,
     "metadata": {},
     "output_type": "execute_result"
    }
   ],
   "source": [
    "df['Sector'].value_counts()"
   ]
  },
  {
   "cell_type": "code",
   "execution_count": 31,
   "metadata": {},
   "outputs": [],
   "source": [
    "#impute 99 as -\n",
    "df.loc[df['Sector'] == '99', 'Sector'] = '-'"
   ]
  },
  {
   "cell_type": "code",
   "execution_count": 32,
   "metadata": {},
   "outputs": [
    {
     "data": {
      "text/plain": [
       "Sector\n",
       "-    10598\n",
       "K     4556\n",
       "M     4477\n",
       "E     3660\n",
       "N     3297\n",
       "D     3152\n",
       "B     2577\n",
       "F     2566\n",
       "R     2404\n",
       "L     2369\n",
       "Q     2279\n",
       "O     2091\n",
       "S     2009\n",
       "U     2003\n",
       "G     1799\n",
       "J     1672\n",
       "W     1645\n",
       "C     1613\n",
       "Name: count, dtype: int64"
      ]
     },
     "execution_count": 32,
     "metadata": {},
     "output_type": "execute_result"
    }
   ],
   "source": [
    "#check if changes reflect\n",
    "df['Sector'].value_counts()"
   ]
  },
  {
   "cell_type": "markdown",
   "metadata": {},
   "source": [
    "### 4.4.13 Beat Column"
   ]
  },
  {
   "cell_type": "code",
   "execution_count": 33,
   "metadata": {},
   "outputs": [
    {
     "data": {
      "text/plain": [
       "Beat\n",
       "-      10450\n",
       "K3      2464\n",
       "M3      2026\n",
       "N3      1634\n",
       "E2      1548\n",
       "M2      1237\n",
       "N2      1235\n",
       "M1      1217\n",
       "D1      1216\n",
       "D2      1191\n",
       "E1      1184\n",
       "K2      1126\n",
       "R2      1099\n",
       "Q3      1097\n",
       "F2      1056\n",
       "B2       966\n",
       "K1       966\n",
       "B1       957\n",
       "U2       937\n",
       "E3       927\n",
       "O1       865\n",
       "L2       817\n",
       "S2       802\n",
       "L1       798\n",
       "F3       772\n",
       "L3       754\n",
       "D3       745\n",
       "F1       738\n",
       "R1       710\n",
       "W2       700\n",
       "Q2       685\n",
       "U1       677\n",
       "G2       668\n",
       "S3       665\n",
       "B3       656\n",
       "O3       649\n",
       "C1       635\n",
       "J3       633\n",
       "G3       625\n",
       "J1       617\n",
       "R3       595\n",
       "O2       577\n",
       "C3       568\n",
       "W1       546\n",
       "S1       542\n",
       "G1       505\n",
       "Q1       497\n",
       "N1       427\n",
       "J2       422\n",
       "C2       411\n",
       "W3       400\n",
       "U3       389\n",
       "99       103\n",
       "OOJ       39\n",
       "S          2\n",
       "Name: count, dtype: int64"
      ]
     },
     "execution_count": 33,
     "metadata": {},
     "output_type": "execute_result"
    }
   ],
   "source": [
    "#check beat column\n",
    "df['Beat'].value_counts()"
   ]
  },
  {
   "cell_type": "code",
   "execution_count": 34,
   "metadata": {},
   "outputs": [],
   "source": [
    "#impute 99 to -\n",
    "df.loc[df['Beat'] == '99', 'Beat'] = '-'"
   ]
  },
  {
   "cell_type": "code",
   "execution_count": 35,
   "metadata": {
    "scrolled": true
   },
   "outputs": [
    {
     "data": {
      "text/plain": [
       "Beat\n",
       "-      10553\n",
       "K3      2464\n",
       "M3      2026\n",
       "N3      1634\n",
       "E2      1548\n",
       "M2      1237\n",
       "N2      1235\n",
       "M1      1217\n",
       "D1      1216\n",
       "D2      1191\n",
       "E1      1184\n",
       "K2      1126\n",
       "R2      1099\n",
       "Q3      1097\n",
       "F2      1056\n",
       "B2       966\n",
       "K1       966\n",
       "B1       957\n",
       "U2       937\n",
       "E3       927\n",
       "O1       865\n",
       "L2       817\n",
       "S2       802\n",
       "L1       798\n",
       "F3       772\n",
       "L3       754\n",
       "D3       745\n",
       "F1       738\n",
       "R1       710\n",
       "W2       700\n",
       "Q2       685\n",
       "U1       677\n",
       "G2       668\n",
       "S3       665\n",
       "B3       656\n",
       "O3       649\n",
       "C1       635\n",
       "J3       633\n",
       "G3       625\n",
       "J1       617\n",
       "R3       595\n",
       "O2       577\n",
       "C3       568\n",
       "W1       546\n",
       "S1       542\n",
       "G1       505\n",
       "Q1       497\n",
       "N1       427\n",
       "J2       422\n",
       "C2       411\n",
       "W3       400\n",
       "U3       389\n",
       "OOJ       39\n",
       "S          2\n",
       "Name: count, dtype: int64"
      ]
     },
     "execution_count": 35,
     "metadata": {},
     "output_type": "execute_result"
    }
   ],
   "source": [
    "df['Beat'].value_counts()"
   ]
  },
  {
   "cell_type": "markdown",
   "metadata": {},
   "source": [
    "### 4.4.15 One Hot Encoding"
   ]
  },
  {
   "cell_type": "code",
   "execution_count": 36,
   "metadata": {},
   "outputs": [
    {
     "data": {
      "text/html": [
       "<div>\n",
       "<style scoped>\n",
       "    .dataframe tbody tr th:only-of-type {\n",
       "        vertical-align: middle;\n",
       "    }\n",
       "\n",
       "    .dataframe tbody tr th {\n",
       "        vertical-align: top;\n",
       "    }\n",
       "\n",
       "    .dataframe thead th {\n",
       "        text-align: right;\n",
       "    }\n",
       "</style>\n",
       "<table border=\"1\" class=\"dataframe\">\n",
       "  <thead>\n",
       "    <tr style=\"text-align: right;\">\n",
       "      <th></th>\n",
       "      <th>Stop Resolution</th>\n",
       "      <th>Officer YOB</th>\n",
       "      <th>Month</th>\n",
       "      <th>Age</th>\n",
       "      <th>Subject Age Group_1 - 17</th>\n",
       "      <th>Subject Age Group_18 - 25</th>\n",
       "      <th>Subject Age Group_26 - 35</th>\n",
       "      <th>Subject Age Group_36 - 45</th>\n",
       "      <th>Subject Age Group_46 - 55</th>\n",
       "      <th>Subject Age Group_56 and Above</th>\n",
       "      <th>...</th>\n",
       "      <th>Beat_S1</th>\n",
       "      <th>Beat_S2</th>\n",
       "      <th>Beat_S3</th>\n",
       "      <th>Beat_U1</th>\n",
       "      <th>Beat_U2</th>\n",
       "      <th>Beat_U3</th>\n",
       "      <th>Beat_W1</th>\n",
       "      <th>Beat_W2</th>\n",
       "      <th>Beat_W3</th>\n",
       "      <th>day/night_night</th>\n",
       "    </tr>\n",
       "  </thead>\n",
       "  <tbody>\n",
       "    <tr>\n",
       "      <th>0</th>\n",
       "      <td>0</td>\n",
       "      <td>1968</td>\n",
       "      <td>10</td>\n",
       "      <td>56</td>\n",
       "      <td>False</td>\n",
       "      <td>False</td>\n",
       "      <td>True</td>\n",
       "      <td>False</td>\n",
       "      <td>False</td>\n",
       "      <td>False</td>\n",
       "      <td>...</td>\n",
       "      <td>False</td>\n",
       "      <td>False</td>\n",
       "      <td>False</td>\n",
       "      <td>False</td>\n",
       "      <td>False</td>\n",
       "      <td>False</td>\n",
       "      <td>False</td>\n",
       "      <td>False</td>\n",
       "      <td>False</td>\n",
       "      <td>True</td>\n",
       "    </tr>\n",
       "  </tbody>\n",
       "</table>\n",
       "<p>1 rows × 119 columns</p>\n",
       "</div>"
      ],
      "text/plain": [
       "   Stop Resolution  Officer YOB  Month  Age  Subject Age Group_1 - 17  \\\n",
       "0                0         1968     10   56                     False   \n",
       "\n",
       "   Subject Age Group_18 - 25  Subject Age Group_26 - 35  \\\n",
       "0                      False                       True   \n",
       "\n",
       "   Subject Age Group_36 - 45  Subject Age Group_46 - 55  \\\n",
       "0                      False                      False   \n",
       "\n",
       "   Subject Age Group_56 and Above  ...  Beat_S1  Beat_S2  Beat_S3  Beat_U1  \\\n",
       "0                           False  ...    False    False    False    False   \n",
       "\n",
       "   Beat_U2  Beat_U3  Beat_W1  Beat_W2  Beat_W3  day/night_night  \n",
       "0    False    False    False    False    False             True  \n",
       "\n",
       "[1 rows x 119 columns]"
      ]
     },
     "execution_count": 36,
     "metadata": {},
     "output_type": "execute_result"
    }
   ],
   "source": [
    "#ohe the categorical columns\n",
    "categorical_columns = df.select_dtypes(include = ['object', 'category']).columns\n",
    "\n",
    "df_encoded = pd.get_dummies(df, columns = categorical_columns, drop_first=True)\n",
    "\n",
    "df_encoded.head(1)"
   ]
  },
  {
   "cell_type": "markdown",
   "metadata": {},
   "source": [
    "## 4.5. Exploratory Data Analysis"
   ]
  },
  {
   "cell_type": "markdown",
   "metadata": {},
   "source": [
    "### 4.5.1 Descriptive Statistics"
   ]
  },
  {
   "cell_type": "code",
   "execution_count": 37,
   "metadata": {},
   "outputs": [
    {
     "data": {
      "text/html": [
       "<div>\n",
       "<style scoped>\n",
       "    .dataframe tbody tr th:only-of-type {\n",
       "        vertical-align: middle;\n",
       "    }\n",
       "\n",
       "    .dataframe tbody tr th {\n",
       "        vertical-align: top;\n",
       "    }\n",
       "\n",
       "    .dataframe thead th {\n",
       "        text-align: right;\n",
       "    }\n",
       "</style>\n",
       "<table border=\"1\" class=\"dataframe\">\n",
       "  <thead>\n",
       "    <tr style=\"text-align: right;\">\n",
       "      <th></th>\n",
       "      <th>count</th>\n",
       "      <th>mean</th>\n",
       "      <th>std</th>\n",
       "      <th>min</th>\n",
       "      <th>25%</th>\n",
       "      <th>50%</th>\n",
       "      <th>75%</th>\n",
       "      <th>max</th>\n",
       "    </tr>\n",
       "  </thead>\n",
       "  <tbody>\n",
       "    <tr>\n",
       "      <th>Stop Resolution</th>\n",
       "      <td>54767.0</td>\n",
       "      <td>0.245403</td>\n",
       "      <td>0.430330</td>\n",
       "      <td>0.0</td>\n",
       "      <td>0.0</td>\n",
       "      <td>0.0</td>\n",
       "      <td>0.0</td>\n",
       "      <td>1.0</td>\n",
       "    </tr>\n",
       "    <tr>\n",
       "      <th>Officer YOB</th>\n",
       "      <td>54767.0</td>\n",
       "      <td>1983.671390</td>\n",
       "      <td>8.821919</td>\n",
       "      <td>1946.0</td>\n",
       "      <td>1979.0</td>\n",
       "      <td>1986.0</td>\n",
       "      <td>1990.0</td>\n",
       "      <td>2000.0</td>\n",
       "    </tr>\n",
       "    <tr>\n",
       "      <th>Month</th>\n",
       "      <td>54767.0</td>\n",
       "      <td>6.480928</td>\n",
       "      <td>3.351380</td>\n",
       "      <td>1.0</td>\n",
       "      <td>4.0</td>\n",
       "      <td>6.0</td>\n",
       "      <td>9.0</td>\n",
       "      <td>12.0</td>\n",
       "    </tr>\n",
       "    <tr>\n",
       "      <th>Age</th>\n",
       "      <td>54767.0</td>\n",
       "      <td>40.328610</td>\n",
       "      <td>8.821919</td>\n",
       "      <td>24.0</td>\n",
       "      <td>34.0</td>\n",
       "      <td>38.0</td>\n",
       "      <td>45.0</td>\n",
       "      <td>78.0</td>\n",
       "    </tr>\n",
       "  </tbody>\n",
       "</table>\n",
       "</div>"
      ],
      "text/plain": [
       "                   count         mean       std     min     25%     50%  \\\n",
       "Stop Resolution  54767.0     0.245403  0.430330     0.0     0.0     0.0   \n",
       "Officer YOB      54767.0  1983.671390  8.821919  1946.0  1979.0  1986.0   \n",
       "Month            54767.0     6.480928  3.351380     1.0     4.0     6.0   \n",
       "Age              54767.0    40.328610  8.821919    24.0    34.0    38.0   \n",
       "\n",
       "                    75%     max  \n",
       "Stop Resolution     0.0     1.0  \n",
       "Officer YOB      1990.0  2000.0  \n",
       "Month               9.0    12.0  \n",
       "Age                45.0    78.0  "
      ]
     },
     "execution_count": 37,
     "metadata": {},
     "output_type": "execute_result"
    }
   ],
   "source": [
    "df_encoded.describe().T"
   ]
  },
  {
   "cell_type": "markdown",
   "metadata": {},
   "source": [
    "### 4.5.2 Correlation Matrix"
   ]
  },
  {
   "cell_type": "code",
   "execution_count": 38,
   "metadata": {
    "scrolled": true
   },
   "outputs": [
    {
     "data": {
      "image/png": "[encoded data removed]",
      "text/plain": [
       "<Figure size 1200x800 with 2 Axes>"
      ]
     },
     "metadata": {},
     "output_type": "display_data"
    }
   ],
   "source": [
    "corr_matrix = df_encoded.corr()\n",
    "\n",
    "#plot the heatmap\n",
    "plt.figure(figsize = (12, 8))\n",
    "sns.heatmap(corr_matrix, annot = True, cmap='coolwarm')\n",
    "plt.title(\"Correlation Matrix\")\n",
    "plt.show()"
   ]
  },
  {
   "cell_type": "markdown",
   "metadata": {},
   "source": [
    "### 4.5.3 Distribution Analysis"
   ]
  },
  {
   "cell_type": "code",
   "execution_count": 39,
   "metadata": {},
   "outputs": [
    {
     "data": {
      "image/png": "[encoded data removed]",
      "text/plain": [
       "<Figure size 1000x600 with 1 Axes>"
      ]
     },
     "metadata": {},
     "output_type": "display_data"
    }
   ],
   "source": [
    "#plot distribution\n",
    "plt.figure(figsize=(10, 6))\n",
    "sns.countplot(data=df, x='Weapon Type')\n",
    "plt.title('Count Plot of Category')\n",
    "plt.show()"
   ]
  },
  {
   "cell_type": "markdown",
   "metadata": {},
   "source": [
    "## 5. Modelling"
   ]
  },
  {
   "cell_type": "markdown",
   "metadata": {},
   "source": [
    "### 5.1 Set Target"
   ]
  },
  {
   "cell_type": "code",
   "execution_count": 40,
   "metadata": {},
   "outputs": [],
   "source": [
    "#define the target\n",
    "\n",
    "y= df_encoded['Stop Resolution']\n",
    "X = df_encoded.drop('Stop Resolution', axis = 1)"
   ]
  },
  {
   "cell_type": "markdown",
   "metadata": {},
   "source": [
    "### 5.2 Train/Test"
   ]
  },
  {
   "cell_type": "code",
   "execution_count": 41,
   "metadata": {},
   "outputs": [],
   "source": [
    "#split the data\n",
    "X_train, X_test, y_train, y_test = train_test_split(X, y, random_state = 42, test_size = 0.2)"
   ]
  },
  {
   "cell_type": "markdown",
   "metadata": {},
   "source": [
    "### 5.3 Baseline Model"
   ]
  },
  {
   "cell_type": "code",
   "execution_count": 42,
   "metadata": {},
   "outputs": [
    {
     "name": "stderr",
     "output_type": "stream",
     "text": [
      "C:\\Users\\Brian Nyagah\\anaconda3\\Lib\\site-packages\\sklearn\\linear_model\\_logistic.py:458: ConvergenceWarning: lbfgs failed to converge (status=1):\n",
      "STOP: TOTAL NO. of ITERATIONS REACHED LIMIT.\n",
      "\n",
      "Increase the number of iterations (max_iter) or scale the data as shown in:\n",
      "    https://scikit-learn.org/stable/modules/preprocessing.html\n",
      "Please also refer to the documentation for alternative solver options:\n",
      "    https://scikit-learn.org/stable/modules/linear_model.html#logistic-regression\n",
      "  n_iter_i = _check_optimize_result(\n"
     ]
    },
    {
     "data": {
      "text/html": [
       "<style>#sk-container-id-1 {color: black;background-color: white;}#sk-container-id-1 pre{padding: 0;}#sk-container-id-1 div.sk-toggleable {background-color: white;}#sk-container-id-1 label.sk-toggleable__label {cursor: pointer;display: block;width: 100%;margin-bottom: 0;padding: 0.3em;box-sizing: border-box;text-align: center;}#sk-container-id-1 label.sk-toggleable__label-arrow:before {content: \"▸\";float: left;margin-right: 0.25em;color: #696969;}#sk-container-id-1 label.sk-toggleable__label-arrow:hover:before {color: black;}#sk-container-id-1 div.sk-estimator:hover label.sk-toggleable__label-arrow:before {color: black;}#sk-container-id-1 div.sk-toggleable__content {max-height: 0;max-width: 0;overflow: hidden;text-align: left;background-color: #f0f8ff;}#sk-container-id-1 div.sk-toggleable__content pre {margin: 0.2em;color: black;border-radius: 0.25em;background-color: #f0f8ff;}#sk-container-id-1 input.sk-toggleable__control:checked~div.sk-toggleable__content {max-height: 200px;max-width: 100%;overflow: auto;}#sk-container-id-1 input.sk-toggleable__control:checked~label.sk-toggleable__label-arrow:before {content: \"▾\";}#sk-container-id-1 div.sk-estimator input.sk-toggleable__control:checked~label.sk-toggleable__label {background-color: #d4ebff;}#sk-container-id-1 div.sk-label input.sk-toggleable__control:checked~label.sk-toggleable__label {background-color: #d4ebff;}#sk-container-id-1 input.sk-hidden--visually {border: 0;clip: rect(1px 1px 1px 1px);clip: rect(1px, 1px, 1px, 1px);height: 1px;margin: -1px;overflow: hidden;padding: 0;position: absolute;width: 1px;}#sk-container-id-1 div.sk-estimator {font-family: monospace;background-color: #f0f8ff;border: 1px dotted black;border-radius: 0.25em;box-sizing: border-box;margin-bottom: 0.5em;}#sk-container-id-1 div.sk-estimator:hover {background-color: #d4ebff;}#sk-container-id-1 div.sk-parallel-item::after {content: \"\";width: 100%;border-bottom: 1px solid gray;flex-grow: 1;}#sk-container-id-1 div.sk-label:hover label.sk-toggleable__label {background-color: #d4ebff;}#sk-container-id-1 div.sk-serial::before {content: \"\";position: absolute;border-left: 1px solid gray;box-sizing: border-box;top: 0;bottom: 0;left: 50%;z-index: 0;}#sk-container-id-1 div.sk-serial {display: flex;flex-direction: column;align-items: center;background-color: white;padding-right: 0.2em;padding-left: 0.2em;position: relative;}#sk-container-id-1 div.sk-item {position: relative;z-index: 1;}#sk-container-id-1 div.sk-parallel {display: flex;align-items: stretch;justify-content: center;background-color: white;position: relative;}#sk-container-id-1 div.sk-item::before, #sk-container-id-1 div.sk-parallel-item::before {content: \"\";position: absolute;border-left: 1px solid gray;box-sizing: border-box;top: 0;bottom: 0;left: 50%;z-index: -1;}#sk-container-id-1 div.sk-parallel-item {display: flex;flex-direction: column;z-index: 1;position: relative;background-color: white;}#sk-container-id-1 div.sk-parallel-item:first-child::after {align-self: flex-end;width: 50%;}#sk-container-id-1 div.sk-parallel-item:last-child::after {align-self: flex-start;width: 50%;}#sk-container-id-1 div.sk-parallel-item:only-child::after {width: 0;}#sk-container-id-1 div.sk-dashed-wrapped {border: 1px dashed gray;margin: 0 0.4em 0.5em 0.4em;box-sizing: border-box;padding-bottom: 0.4em;background-color: white;}#sk-container-id-1 div.sk-label label {font-family: monospace;font-weight: bold;display: inline-block;line-height: 1.2em;}#sk-container-id-1 div.sk-label-container {text-align: center;}#sk-container-id-1 div.sk-container {/* jupyter's `normalize.less` sets `[hidden] { display: none; }` but bootstrap.min.css set `[hidden] { display: none !important; }` so we also need the `!important` here to be able to override the default hidden behavior on the sphinx rendered scikit-learn.org. See: https://github.com/scikit-learn/scikit-learn/issues/21755 */display: inline-block !important;position: relative;}#sk-container-id-1 div.sk-text-repr-fallback {display: none;}</style><div id=\"sk-container-id-1\" class=\"sk-top-container\"><div class=\"sk-text-repr-fallback\"><pre>LogisticRegression()</pre><b>In a Jupyter environment, please rerun this cell to show the HTML representation or trust the notebook. <br />On GitHub, the HTML representation is unable to render, please try loading this page with nbviewer.org.</b></div><div class=\"sk-container\" hidden><div class=\"sk-item\"><div class=\"sk-estimator sk-toggleable\"><input class=\"sk-toggleable__control sk-hidden--visually\" id=\"sk-estimator-id-1\" type=\"checkbox\" checked><label for=\"sk-estimator-id-1\" class=\"sk-toggleable__label sk-toggleable__label-arrow\">LogisticRegression</label><div class=\"sk-toggleable__content\"><pre>LogisticRegression()</pre></div></div></div></div></div>"
      ],
      "text/plain": [
       "LogisticRegression()"
      ]
     },
     "execution_count": 42,
     "metadata": {},
     "output_type": "execute_result"
    }
   ],
   "source": [
    "#initialize the model\n",
    "clf = LogisticRegression()\n",
    "\n",
    "clf.fit(X_train, y_train)"
   ]
  },
  {
   "cell_type": "code",
   "execution_count": 43,
   "metadata": {},
   "outputs": [
    {
     "data": {
      "text/plain": [
       "0.8462662041263466"
      ]
     },
     "execution_count": 43,
     "metadata": {},
     "output_type": "execute_result"
    }
   ],
   "source": [
    "#prediction and score\n",
    "\n",
    "train_pred = clf.predict(X_train)\n",
    "test_pred = clf.predict(X_test)\n",
    "\n",
    "clf.score(X_test, y_test)"
   ]
  },
  {
   "cell_type": "markdown",
   "metadata": {},
   "source": [
    "### 5.4 Classification Report"
   ]
  },
  {
   "cell_type": "code",
   "execution_count": 44,
   "metadata": {},
   "outputs": [
    {
     "name": "stdout",
     "output_type": "stream",
     "text": [
      "              precision    recall  f1-score   support\n",
      "\n",
      "           0       0.83      0.99      0.91      8209\n",
      "           1       0.96      0.40      0.57      2745\n",
      "\n",
      "    accuracy                           0.85     10954\n",
      "   macro avg       0.90      0.70      0.74     10954\n",
      "weighted avg       0.86      0.85      0.82     10954\n",
      "\n"
     ]
    }
   ],
   "source": [
    "#get the classification report\n",
    "print(classification_report(y_test, test_pred))"
   ]
  },
  {
   "cell_type": "markdown",
   "metadata": {},
   "source": [
    "### 5.5 Cross Val Score"
   ]
  },
  {
   "cell_type": "code",
   "execution_count": 45,
   "metadata": {},
   "outputs": [
    {
     "name": "stderr",
     "output_type": "stream",
     "text": [
      "C:\\Users\\Brian Nyagah\\anaconda3\\Lib\\site-packages\\sklearn\\linear_model\\_logistic.py:458: ConvergenceWarning: lbfgs failed to converge (status=1):\n",
      "STOP: TOTAL NO. of ITERATIONS REACHED LIMIT.\n",
      "\n",
      "Increase the number of iterations (max_iter) or scale the data as shown in:\n",
      "    https://scikit-learn.org/stable/modules/preprocessing.html\n",
      "Please also refer to the documentation for alternative solver options:\n",
      "    https://scikit-learn.org/stable/modules/linear_model.html#logistic-regression\n",
      "  n_iter_i = _check_optimize_result(\n",
      "C:\\Users\\Brian Nyagah\\anaconda3\\Lib\\site-packages\\sklearn\\linear_model\\_logistic.py:458: ConvergenceWarning: lbfgs failed to converge (status=1):\n",
      "STOP: TOTAL NO. of ITERATIONS REACHED LIMIT.\n",
      "\n",
      "Increase the number of iterations (max_iter) or scale the data as shown in:\n",
      "    https://scikit-learn.org/stable/modules/preprocessing.html\n",
      "Please also refer to the documentation for alternative solver options:\n",
      "    https://scikit-learn.org/stable/modules/linear_model.html#logistic-regression\n",
      "  n_iter_i = _check_optimize_result(\n"
     ]
    },
    {
     "data": {
      "text/plain": [
       "array([0.84847655, 0.85298548, 0.84956176])"
      ]
     },
     "execution_count": 45,
     "metadata": {},
     "output_type": "execute_result"
    }
   ],
   "source": [
    "#cross val score\n",
    "cross_val_score(clf, X_train, y_train, cv=3)"
   ]
  },
  {
   "cell_type": "markdown",
   "metadata": {},
   "source": [
    "## 6. Model Evaluation"
   ]
  },
  {
   "cell_type": "markdown",
   "metadata": {},
   "source": [
    "### 6.1 Descision Tree "
   ]
  },
  {
   "cell_type": "markdown",
   "metadata": {},
   "source": [
    "Lets see if our accuracy is going to improve when we use Decision Trees since they are better at classification than Logisitc Regression"
   ]
  },
  {
   "cell_type": "code",
   "execution_count": 46,
   "metadata": {},
   "outputs": [],
   "source": [
    "#instantiate the DT\n",
    "dt = DecisionTreeClassifier()"
   ]
  },
  {
   "cell_type": "code",
   "execution_count": 55,
   "metadata": {},
   "outputs": [
    {
     "name": "stdout",
     "output_type": "stream",
     "text": [
      "The decision tree Mean CV Score is 79.87%\n"
     ]
    }
   ],
   "source": [
    "#obtain the cv score of the decision tree\n",
    "dt_cv_score = cross_val_score(dt, X_train, y_train, cv = 3).mean()\n",
    "print(f\"The decision tree Mean CV Score is {dt_cv_score :.2%}\")"
   ]
  },
  {
   "cell_type": "code",
   "execution_count": 53,
   "metadata": {},
   "outputs": [],
   "source": [
    "#params for grid search for Decision Tree\n",
    "param_grid = {\n",
    "    'criterion': ['gini', 'entropy'],\n",
    "    'max_depth': [2, 4, 6, 8, 12],\n",
    "    'min_samples_split': [1, 2, 3, 4],\n",
    "    'min_samples_leaf': [1, 2, 3, 5]\n",
    "}"
   ]
  },
  {
   "cell_type": "code",
   "execution_count": 56,
   "metadata": {},
   "outputs": [
    {
     "name": "stdout",
     "output_type": "stream",
     "text": [
      "Best Params:  {'criterion': 'gini', 'max_depth': 2, 'min_samples_leaf': 1, 'min_samples_split': 2}\n",
      "Best Score:  0.850752077447216\n"
     ]
    },
    {
     "name": "stderr",
     "output_type": "stream",
     "text": [
      "C:\\Users\\Brian Nyagah\\anaconda3\\Lib\\site-packages\\sklearn\\model_selection\\_validation.py:378: FitFailedWarning: \n",
      "120 fits failed out of a total of 480.\n",
      "The score on these train-test partitions for these parameters will be set to nan.\n",
      "If these failures are not expected, you can try to debug them by setting error_score='raise'.\n",
      "\n",
      "Below are more details about the failures:\n",
      "--------------------------------------------------------------------------------\n",
      "120 fits failed with the following error:\n",
      "Traceback (most recent call last):\n",
      "  File \"C:\\Users\\Brian Nyagah\\anaconda3\\Lib\\site-packages\\sklearn\\model_selection\\_validation.py\", line 686, in _fit_and_score\n",
      "    estimator.fit(X_train, y_train, **fit_params)\n",
      "  File \"C:\\Users\\Brian Nyagah\\anaconda3\\Lib\\site-packages\\sklearn\\tree\\_classes.py\", line 889, in fit\n",
      "    super().fit(\n",
      "  File \"C:\\Users\\Brian Nyagah\\anaconda3\\Lib\\site-packages\\sklearn\\tree\\_classes.py\", line 177, in fit\n",
      "    self._validate_params()\n",
      "  File \"C:\\Users\\Brian Nyagah\\anaconda3\\Lib\\site-packages\\sklearn\\base.py\", line 600, in _validate_params\n",
      "    validate_parameter_constraints(\n",
      "  File \"C:\\Users\\Brian Nyagah\\anaconda3\\Lib\\site-packages\\sklearn\\utils\\_param_validation.py\", line 97, in validate_parameter_constraints\n",
      "    raise InvalidParameterError(\n",
      "sklearn.utils._param_validation.InvalidParameterError: The 'min_samples_split' parameter of DecisionTreeClassifier must be an int in the range [2, inf) or a float in the range (0.0, 1.0]. Got 1 instead.\n",
      "\n",
      "  warnings.warn(some_fits_failed_message, FitFailedWarning)\n",
      "C:\\Users\\Brian Nyagah\\anaconda3\\Lib\\site-packages\\sklearn\\model_selection\\_search.py:952: UserWarning: One or more of the test scores are non-finite: [       nan 0.85075208 0.85075208 0.85075208        nan 0.85075208\n",
      " 0.85075208 0.85075208        nan 0.85075208 0.85075208 0.85075208\n",
      "        nan 0.85075208 0.85075208 0.85075208        nan 0.85070643\n",
      " 0.85070643 0.85066078        nan 0.85063795 0.85063795 0.85066078\n",
      "        nan 0.85075208 0.85075208 0.85075208        nan 0.85075208\n",
      " 0.85075208 0.85075208        nan 0.85002169 0.85009016 0.85002169\n",
      "        nan 0.84999886 0.84995321 0.84995321        nan 0.85004451\n",
      " 0.85004451 0.85004451        nan 0.85011298 0.85011298 0.85011298\n",
      "        nan 0.84915435 0.84910871 0.84913154        nan 0.84917718\n",
      " 0.8492913  0.84913153        nan 0.84917718 0.8492913  0.84920001\n",
      "        nan 0.84954237 0.84954237 0.84958802        nan 0.8458448\n",
      " 0.84607304 0.84607307        nan 0.84636978 0.84609589 0.84652955\n",
      "        nan 0.84712295 0.84721425 0.84705448        nan 0.84675778\n",
      " 0.84678061 0.84666648        nan 0.85075208 0.85075208 0.85075208\n",
      "        nan 0.85075208 0.85075208 0.85075208        nan 0.85075208\n",
      " 0.85075208 0.85075208        nan 0.85075208 0.85075208 0.85075208\n",
      "        nan 0.85066078 0.85066078 0.85070643        nan 0.85066078\n",
      " 0.85066078 0.85063795        nan 0.85075208 0.85075208 0.85075208\n",
      "        nan 0.85075208 0.85075208 0.85075208        nan 0.85020428\n",
      " 0.85024993 0.85020428        nan 0.85020428 0.85027275 0.85020428\n",
      "        nan 0.8503184  0.8503184  0.8503184         nan 0.85029558\n",
      " 0.85029558 0.85029558        nan 0.84967931 0.84974778 0.84965649\n",
      "        nan 0.8494739  0.84949673 0.84945108        nan 0.84983909\n",
      " 0.84983909 0.84981627        nan 0.85009015 0.85009015 0.85009015\n",
      "        nan 0.84554811 0.84652955 0.84664368        nan 0.84687192\n",
      " 0.84691756 0.84668933        nan 0.8470317  0.84716865 0.84700887\n",
      "        nan 0.84666652 0.84680347 0.84657523]\n",
      "  warnings.warn(\n",
      "C:\\Users\\Brian Nyagah\\anaconda3\\Lib\\site-packages\\sklearn\\model_selection\\_search.py:952: UserWarning: One or more of the train scores are non-finite: [       nan 0.85075206 0.85075206 0.85075206        nan 0.85075206\n",
      " 0.85075206 0.85075206        nan 0.85075206 0.85075206 0.85075206\n",
      "        nan 0.85075206 0.85075206 0.85075206        nan 0.8507863\n",
      " 0.8507863  0.8507863         nan 0.85075206 0.85075206 0.85075206\n",
      "        nan 0.85075206 0.85075206 0.85075206        nan 0.85075206\n",
      " 0.85075206 0.85075206        nan 0.85160798 0.85159656 0.85157374\n",
      "        nan 0.85150527 0.85150527 0.85150527        nan 0.85148244\n",
      " 0.85148244 0.85148244        nan 0.85139114 0.85139114 0.85139114\n",
      "        nan 0.8531372  0.85308014 0.85301166        nan 0.85279483\n",
      " 0.85282907 0.85279483        nan 0.85265789 0.85263506 0.85265789\n",
      "        nan 0.85228129 0.85228129 0.85228129        nan 0.86425261\n",
      " 0.86363635 0.86296303        nan 0.86186747 0.8618903  0.86192453\n",
      "        nan 0.86096591 0.86096591 0.86094309        nan 0.85879761\n",
      " 0.85877479 0.85879761        nan 0.85075206 0.85075206 0.85075206\n",
      "        nan 0.85075206 0.85075206 0.85075206        nan 0.85075206\n",
      " 0.85075206 0.85075206        nan 0.85075206 0.85075206 0.85075206\n",
      "        nan 0.8507863  0.8507863  0.8507863         nan 0.85075206\n",
      " 0.85075206 0.85075206        nan 0.85075206 0.85075206 0.85075206\n",
      "        nan 0.85075206 0.85075206 0.85075206        nan 0.85133408\n",
      " 0.85133408 0.85133408        nan 0.85125419 0.85125419 0.85125419\n",
      "        nan 0.85125419 0.85125419 0.85125419        nan 0.85119713\n",
      " 0.85119713 0.85119713        nan 0.85293178 0.85287472 0.85286331\n",
      "        nan 0.85272636 0.85272636 0.85272636        nan 0.85261224\n",
      " 0.85261224 0.85261224        nan 0.85231552 0.85231552 0.85231552\n",
      "        nan 0.86122839 0.86089744 0.86060072        nan 0.85943668\n",
      " 0.85937962 0.85937962        nan 0.85861501 0.85861501 0.85863784\n",
      "        nan 0.85740533 0.85735968 0.85741674]\n",
      "  warnings.warn(\n"
     ]
    }
   ],
   "source": [
    "#instantiate grid search\n",
    "grid_search = GridSearchCV(dt, param_grid, cv=3, return_train_score=True)\n",
    "\n",
    "#fit\n",
    "grid_search.fit(X_train, y_train)\n",
    "\n",
    "#obtain best parameters\n",
    "print('Best Params: ', grid_search.best_params_)\n",
    "\n",
    "#obtain best score\n",
    "print('Best Score: ', grid_search.best_score_)"
   ]
  },
  {
   "cell_type": "code",
   "execution_count": 65,
   "metadata": {},
   "outputs": [],
   "source": [
    "#instantiate the decision tree with best parameters\n",
    "dt_best_param = DecisionTreeClassifier(\n",
    "    criterion = 'gini',\n",
    "    max_depth = 2,\n",
    "    min_samples_leaf = 1,\n",
    "    min_samples_split = 2\n",
    ")\n"
   ]
  },
  {
   "cell_type": "code",
   "execution_count": 66,
   "metadata": {},
   "outputs": [
    {
     "data": {
      "text/html": [
       "<style>#sk-container-id-2 {color: black;background-color: white;}#sk-container-id-2 pre{padding: 0;}#sk-container-id-2 div.sk-toggleable {background-color: white;}#sk-container-id-2 label.sk-toggleable__label {cursor: pointer;display: block;width: 100%;margin-bottom: 0;padding: 0.3em;box-sizing: border-box;text-align: center;}#sk-container-id-2 label.sk-toggleable__label-arrow:before {content: \"▸\";float: left;margin-right: 0.25em;color: #696969;}#sk-container-id-2 label.sk-toggleable__label-arrow:hover:before {color: black;}#sk-container-id-2 div.sk-estimator:hover label.sk-toggleable__label-arrow:before {color: black;}#sk-container-id-2 div.sk-toggleable__content {max-height: 0;max-width: 0;overflow: hidden;text-align: left;background-color: #f0f8ff;}#sk-container-id-2 div.sk-toggleable__content pre {margin: 0.2em;color: black;border-radius: 0.25em;background-color: #f0f8ff;}#sk-container-id-2 input.sk-toggleable__control:checked~div.sk-toggleable__content {max-height: 200px;max-width: 100%;overflow: auto;}#sk-container-id-2 input.sk-toggleable__control:checked~label.sk-toggleable__label-arrow:before {content: \"▾\";}#sk-container-id-2 div.sk-estimator input.sk-toggleable__control:checked~label.sk-toggleable__label {background-color: #d4ebff;}#sk-container-id-2 div.sk-label input.sk-toggleable__control:checked~label.sk-toggleable__label {background-color: #d4ebff;}#sk-container-id-2 input.sk-hidden--visually {border: 0;clip: rect(1px 1px 1px 1px);clip: rect(1px, 1px, 1px, 1px);height: 1px;margin: -1px;overflow: hidden;padding: 0;position: absolute;width: 1px;}#sk-container-id-2 div.sk-estimator {font-family: monospace;background-color: #f0f8ff;border: 1px dotted black;border-radius: 0.25em;box-sizing: border-box;margin-bottom: 0.5em;}#sk-container-id-2 div.sk-estimator:hover {background-color: #d4ebff;}#sk-container-id-2 div.sk-parallel-item::after {content: \"\";width: 100%;border-bottom: 1px solid gray;flex-grow: 1;}#sk-container-id-2 div.sk-label:hover label.sk-toggleable__label {background-color: #d4ebff;}#sk-container-id-2 div.sk-serial::before {content: \"\";position: absolute;border-left: 1px solid gray;box-sizing: border-box;top: 0;bottom: 0;left: 50%;z-index: 0;}#sk-container-id-2 div.sk-serial {display: flex;flex-direction: column;align-items: center;background-color: white;padding-right: 0.2em;padding-left: 0.2em;position: relative;}#sk-container-id-2 div.sk-item {position: relative;z-index: 1;}#sk-container-id-2 div.sk-parallel {display: flex;align-items: stretch;justify-content: center;background-color: white;position: relative;}#sk-container-id-2 div.sk-item::before, #sk-container-id-2 div.sk-parallel-item::before {content: \"\";position: absolute;border-left: 1px solid gray;box-sizing: border-box;top: 0;bottom: 0;left: 50%;z-index: -1;}#sk-container-id-2 div.sk-parallel-item {display: flex;flex-direction: column;z-index: 1;position: relative;background-color: white;}#sk-container-id-2 div.sk-parallel-item:first-child::after {align-self: flex-end;width: 50%;}#sk-container-id-2 div.sk-parallel-item:last-child::after {align-self: flex-start;width: 50%;}#sk-container-id-2 div.sk-parallel-item:only-child::after {width: 0;}#sk-container-id-2 div.sk-dashed-wrapped {border: 1px dashed gray;margin: 0 0.4em 0.5em 0.4em;box-sizing: border-box;padding-bottom: 0.4em;background-color: white;}#sk-container-id-2 div.sk-label label {font-family: monospace;font-weight: bold;display: inline-block;line-height: 1.2em;}#sk-container-id-2 div.sk-label-container {text-align: center;}#sk-container-id-2 div.sk-container {/* jupyter's `normalize.less` sets `[hidden] { display: none; }` but bootstrap.min.css set `[hidden] { display: none !important; }` so we also need the `!important` here to be able to override the default hidden behavior on the sphinx rendered scikit-learn.org. See: https://github.com/scikit-learn/scikit-learn/issues/21755 */display: inline-block !important;position: relative;}#sk-container-id-2 div.sk-text-repr-fallback {display: none;}</style><div id=\"sk-container-id-2\" class=\"sk-top-container\"><div class=\"sk-text-repr-fallback\"><pre>DecisionTreeClassifier(max_depth=2)</pre><b>In a Jupyter environment, please rerun this cell to show the HTML representation or trust the notebook. <br />On GitHub, the HTML representation is unable to render, please try loading this page with nbviewer.org.</b></div><div class=\"sk-container\" hidden><div class=\"sk-item\"><div class=\"sk-estimator sk-toggleable\"><input class=\"sk-toggleable__control sk-hidden--visually\" id=\"sk-estimator-id-2\" type=\"checkbox\" checked><label for=\"sk-estimator-id-2\" class=\"sk-toggleable__label sk-toggleable__label-arrow\">DecisionTreeClassifier</label><div class=\"sk-toggleable__content\"><pre>DecisionTreeClassifier(max_depth=2)</pre></div></div></div></div></div>"
      ],
      "text/plain": [
       "DecisionTreeClassifier(max_depth=2)"
      ]
     },
     "execution_count": 66,
     "metadata": {},
     "output_type": "execute_result"
    }
   ],
   "source": [
    "#fit classifier\n",
    "dt_best_param.fit(X_train, y_train)"
   ]
  },
  {
   "cell_type": "code",
   "execution_count": 74,
   "metadata": {},
   "outputs": [
    {
     "data": {
      "text/plain": [
       "0.8477268577688516"
      ]
     },
     "execution_count": 74,
     "metadata": {},
     "output_type": "execute_result"
    }
   ],
   "source": [
    "#obtain predicted score of test and train\n",
    "test_preds = dt_best_param.predict(X_test)\n",
    "train_preds = dt_best_param.predict(X_train)\n",
    "\n",
    "dt_best_param.score(X_test, y_test )"
   ]
  },
  {
   "cell_type": "code",
   "execution_count": 70,
   "metadata": {},
   "outputs": [
    {
     "name": "stdout",
     "output_type": "stream",
     "text": [
      "              precision    recall  f1-score   support\n",
      "\n",
      "           0       0.83      1.00      0.91      8209\n",
      "           1       1.00      0.39      0.56      2745\n",
      "\n",
      "    accuracy                           0.85     10954\n",
      "   macro avg       0.92      0.70      0.74     10954\n",
      "weighted avg       0.87      0.85      0.82     10954\n",
      "\n"
     ]
    }
   ],
   "source": [
    "# Classification report\n",
    "print(classification_report(y_test, test_preds))"
   ]
  },
  {
   "cell_type": "markdown",
   "metadata": {},
   "source": [
    "# 7. Conclusion"
   ]
  },
  {
   "cell_type": "markdown",
   "metadata": {},
   "source": [
    "The problem statement for this was to create a predictor. I created 2, both had scores of over 80%\n",
    "\n",
    "This conclusion suggests that the model is placing a significant emphasis on the outcome of the Terry stop (i.e., whether an arrest was made or not) "
   ]
  },
  {
   "cell_type": "markdown",
   "metadata": {},
   "source": [
    "## 8. Recommendations\n",
    "\n",
    "1. Train officers on the appropriate times to make an arrest during a Terry Stop as this is a key indicator of arrests.\n",
    "Try to capture the officer's precinct for all Terry Stops to better predict arrests.\n",
    "Train officers on the appropriate times to frisk someone, as this is another key indicator of arrests.\n",
    "\n",
    "2. Address any biases in the data: The model's predictions may be influenced by biases in the data. For example, there may be biases in the distribution of Terry stops based on race, gender, or location. These biases should be identified and addressed to ensure that the model provides fair and unbiased predictions. "
   ]
  },
  {
   "cell_type": "code",
   "execution_count": null,
   "metadata": {},
   "outputs": [],
   "source": []
  }
 ],
 "metadata": {
  "kernelspec": {
   "display_name": "gomycode_env",
   "language": "python",
   "name": "gomycode_env"
  },
  "language_info": {
   "codemirror_mode": {
    "name": "ipython",
    "version": 3
   },
   "file_extension": ".py",
   "mimetype": "text/x-python",
   "name": "python",
   "nbconvert_exporter": "python",
   "pygments_lexer": "ipython3",
   "version": "3.11.7"
  },
  "vscode": {
   "interpreter": {
    "hash": "916dbcbb3f70747c44a77c7bcd40155683ae19c65e1c03b4aa3499c5328201f1"
   }
  }
 },
 "nbformat": 4,
 "nbformat_minor": 4
}
